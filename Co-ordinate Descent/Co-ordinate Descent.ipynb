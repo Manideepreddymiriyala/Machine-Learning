{
 "cells": [
  {
   "cell_type": "code",
   "execution_count": 1,
   "metadata": {},
   "outputs": [],
   "source": [
    "import pandas as pd\n",
    "import numpy as np\n",
    "import math"
   ]
  },
  {
   "cell_type": "code",
   "execution_count": 3,
   "metadata": {},
   "outputs": [],
   "source": [
    "Train_data = pd.read_csv(r'C:\\Users\\miriy\\Downloads\\heart_train.data',header = None)\n",
    "Test_data = pd.read_csv(r'C:\\Users\\miriy\\Downloads\\heart_test.data',header = None)"
   ]
  },
  {
   "cell_type": "code",
   "execution_count": 4,
   "metadata": {},
   "outputs": [],
   "source": [
    "Train_data.loc[Train_data[0] == 0, 0] = -1\n",
    "Test_data.loc[Test_data[0] == 0, 0] = -1"
   ]
  },
  {
   "cell_type": "code",
   "execution_count": 5,
   "metadata": {},
   "outputs": [],
   "source": [
    "attrs = len(Train_data.columns)  #No of Attributes\n",
    "\n",
    "rows = len(Train_data)   #No of Training Data Points"
   ]
  },
  {
   "cell_type": "code",
   "execution_count": 6,
   "metadata": {},
   "outputs": [],
   "source": [
    "Train_data = np.array(Train_data.iloc[:,:])\n",
    "Test_data = np.array(Test_data.iloc[:,:])"
   ]
  },
  {
   "cell_type": "code",
   "execution_count": 7,
   "metadata": {},
   "outputs": [],
   "source": [
    "def output(tree, lst):\n",
    "    while(True):\n",
    "        for key, value in tree.items():\n",
    "            if value == 1 or value == -1:\n",
    "                return value\n",
    "            else:\n",
    "                k = lst[key]\n",
    "                tree = tree[key][k]\n",
    "            if tree == 1 or tree == -1:\n",
    "                return tree"
   ]
  },
  {
   "cell_type": "code",
   "execution_count": 8,
   "metadata": {},
   "outputs": [],
   "source": [
    "def Hypothesis():\n",
    "    hypo = []\n",
    "    lst = [1, -1]\n",
    "    for attr in range(1, attrs):#attribute iteration\n",
    "        for i in lst:\n",
    "            for j in lst: # 4 cases for 2 possible choices of labelling 1, -1\n",
    "                tree = {}\n",
    "                tree[attr] = {}\n",
    "                tree[attr][0] = i\n",
    "                tree[attr][1] = j\n",
    "                hypo.append(tree)\n",
    "    return hypo"
   ]
  },
  {
   "cell_type": "code",
   "execution_count": 9,
   "metadata": {},
   "outputs": [],
   "source": [
    "def Coordinate_Descent(alpha, data, labels):\n",
    "    length = len(alpha)\n",
    "    it = 0\n",
    "    diff = 1\n",
    "    while(diff > 0.01):\n",
    "        diff = 0\n",
    "        for i in range(length):#Updating alphas in Round Robin way\n",
    "            n = 0\n",
    "            d = 0\n",
    "            for r in range(rows):\n",
    "                k = data[r, 0]\n",
    "                p = 0\n",
    "                for j in range(length):\n",
    "                    if i != j:\n",
    "                        p = p + alpha[j] * labels[j][r]\n",
    "                p = np.exp(-1 * k * p)\n",
    "                if k == labels[i][r]:\n",
    "                    n += p\n",
    "                else:\n",
    "                    d += p\n",
    "            Palpha = alpha[i]\n",
    "            alpha[i] = 1/2 * math.log(n/d)\n",
    "            diff += abs(alpha[i] - Palpha)\n",
    "        #print(alpha)\n",
    "        #print('diff',diff)\n",
    "        it += 1\n",
    "    return alpha"
   ]
  },
  {
   "cell_type": "code",
   "execution_count": 10,
   "metadata": {},
   "outputs": [],
   "source": [
    "hypo = Hypothesis()   #hypo mean Total hypothesis space\n",
    "space = len(hypo)\n",
    "alpha = [.5] * space\n",
    "\n",
    "\n",
    "labels = []\n",
    "for tree in hypo:\n",
    "    lst = []\n",
    "    for i in range(rows):\n",
    "        row = Train_data[i, :]\n",
    "        #print(tree)\n",
    "        #print(row)\n",
    "        k = output(tree, row)\n",
    "        lst.append(k)\n",
    "    labels.append(lst)\n",
    "        \n",
    "#print(labels)     \n",
    "alpha = Coordinate_Descent(alpha, Train_data, labels) #method for getting Hypothesis space and Alpha values"
   ]
  },
  {
   "cell_type": "code",
   "execution_count": 11,
   "metadata": {},
   "outputs": [
    {
     "name": "stdout",
     "output_type": "stream",
     "text": [
      "Exponential Loss on Training data set is 39.47514665958159\n"
     ]
    }
   ],
   "source": [
    "#Exponential Loss on Training set\n",
    "expLoss = 0\n",
    "for r in range(rows):\n",
    "    y = Train_data[r, 0]\n",
    "    k = 0\n",
    "    for h in range(space):\n",
    "        k += alpha[h] * labels[h][r]\n",
    "    k = np.exp(-1 * y * k)\n",
    "    expLoss += k\n",
    "print('Exponential Loss on Training data set is', expLoss)"
   ]
  },
  {
   "cell_type": "code",
   "execution_count": 12,
   "metadata": {},
   "outputs": [
    {
     "name": "stdout",
     "output_type": "stream",
     "text": [
      "Accuracy on the test data set is 69.5187165775401\n",
      "The values of alpha are\n",
      "[0.49999999999999456, 3.0520049917641385, 0.5000000000000254, 1.4272912997155034, 0.4999999999999781, 0.984627440889063, 0.5000000000000102, 0.9083741643393277, 0.5000000000000193, 5.820698216735612, 0.5000000000000975, 3.927068128328174, 0.4999999999999737, -0.3132793826015159, 0.5000000000000026, -0.027262278811400965, 0.49999999999999784, 0.18110783587080545, 0.5000000000000248, 0.35812485411019385, 0.5000000000000294, 0.3693825581692631, 0.5000000000000103, 0.3969152935603618, 0.5000000000000213, -0.10747220704334362, 0.5000000000000162, 0.1775608822633493, 0.5000000000000087, -4.4301263821832695, 0.500000000000059, -2.8162930537196518, 0.4999999999999871, 4.123582657426481, 0.5000000000000765, 3.3041480860757755, 0.5000000000000067, -1.9183964328200476, 0.5000000000000021, -0.41728601733443815, 0.5000000000000111, 0.10916053815681252, 0.5000000000000054, 0.24125011435688473, 0.5000000000000037, 0.9559936171721266, 0.5000000000000011, 0.7787075566940017, 0.49999999999999123, -0.2936930607830329, 0.5000000000000084, 0.11438150124805382, 0.5000000000000115, -2.5898146610479755, 0.49999999999996697, -1.8655772765091956, 0.5000000000000057, -0.7317525085011471, 0.4999999999999943, -0.7078556733843949, 0.4999999999999975, -0.23672825294232092, 0.49999999999998307, -0.09203008957240646, 0.5000000000000172, -2.707775900808763, 0.49999999999999245, -2.6456124597762645, 0.4999999999999718, -1.8883984888578247, 0.5000000000000003, -1.868737571661959, 0.4999999999999841, 0.4489084086786072, 0.5000000000000029, 0.46651609084763473, 0.4999999999999983, 0.17483555592345576, 0.49999999999999467, 0.2852521956567165, 0.49999999999999567, 0.3360246319196353, 0.5000000000000013, 0.3870699522549559, 0.5000000000000149, 0.12270429156608623, 0.5000000000000105, 0.32464822934803655]\n"
     ]
    }
   ],
   "source": [
    "#accuracy calculation\n",
    "\n",
    "length = len(Test_data)\n",
    "\n",
    "accuracy = 0\n",
    "for i in range(length):\n",
    "    p = 0\n",
    "    row = Test_data[i, :]\n",
    "    for r in range(space):\n",
    "        k = output(hypo[r], row)\n",
    "        p = p + alpha[r] * k\n",
    "    if p >= 0:\n",
    "        if row[0] == 1:\n",
    "            accuracy += 1\n",
    "    else:\n",
    "        if row[0] == -1:\n",
    "            accuracy += 1\n",
    "\n",
    "accuracy = accuracy/length * 100\n",
    "print(\"Accuracy on the test data set is\", accuracy)\n",
    "        \n",
    "print('The values of alpha are')     \n",
    "print(alpha)"
   ]
  },
  {
   "cell_type": "code",
   "execution_count": 14,
   "metadata": {},
   "outputs": [
    {
     "data": {
      "text/plain": [
       "88"
      ]
     },
     "execution_count": 14,
     "metadata": {},
     "output_type": "execute_result"
    }
   ],
   "source": [
    "len(hypo)"
   ]
  },
  {
   "cell_type": "code",
   "execution_count": 15,
   "metadata": {},
   "outputs": [
    {
     "data": {
      "text/plain": [
       "88"
      ]
     },
     "execution_count": 15,
     "metadata": {},
     "output_type": "execute_result"
    }
   ],
   "source": [
    "len(alpha)"
   ]
  },
  {
   "cell_type": "code",
   "execution_count": null,
   "metadata": {},
   "outputs": [],
   "source": []
  }
 ],
 "metadata": {
  "kernelspec": {
   "display_name": "Python 3",
   "language": "python",
   "name": "python3"
  },
  "language_info": {
   "codemirror_mode": {
    "name": "ipython",
    "version": 3
   },
   "file_extension": ".py",
   "mimetype": "text/x-python",
   "name": "python",
   "nbconvert_exporter": "python",
   "pygments_lexer": "ipython3",
   "version": "3.7.3"
  }
 },
 "nbformat": 4,
 "nbformat_minor": 2
}
