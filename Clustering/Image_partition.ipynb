{
 "cells": [
  {
   "cell_type": "code",
   "execution_count": 1,
   "metadata": {},
   "outputs": [],
   "source": [
    "import numpy as np\n",
    "import math\n",
    "from sklearn.cluster import KMeans\n",
    "import matplotlib.pyplot as plt\n",
    "import skimage.io as sk"
   ]
  },
  {
   "cell_type": "code",
   "execution_count": 5,
   "metadata": {},
   "outputs": [],
   "source": [
    "def similarity_matrix(X, sigma):\n",
    "    n = len(X)\n",
    "    sim_matrix = np.zeros((n, n))\n",
    "    for i in range(n):\n",
    "        for j in range(i+1):\n",
    "            if i == j:\n",
    "                sim_matrix[i, j] = 1   #Similarity between 2 same rows is 1\n",
    "            else:\n",
    "                dist = X[i]-X[j]\n",
    "                k = (-1 / (2 * (sigma**2))) * (dist**2)\n",
    "                sim_matrix[i, j] = sim_matrix[j, i] = math.exp(k)\n",
    "    return sim_matrix\n",
    "                \n",
    "            \n",
    "def Laplacian_matrix(A):\n",
    "    n = len(A)\n",
    "    D = np.zeros((n, n))  #D is a diagonal matrix with D[i, i]= ´∑j A[i, j]\n",
    "    M = A.sum(axis=1)\n",
    "    print(M.shape)\n",
    "    for i in range(n):\n",
    "        D[i, i] = M[i]\n",
    "    return D - A\n",
    "            \n",
    "\n",
    "def eigen(L):\n",
    "    return np.linalg.eigh(L)\n",
    "\n",
    "def spectralClustering(X, K, sigma):\n",
    "    A  = similarity_matrix(X, sigma)\n",
    "    print(A[0])\n",
    "    L  =  Laplacian_matrix(A)\n",
    "  \n",
    "    print(L[0])\n",
    "    eigenValues, eigenVectors = eigen(L)\n",
    "    idx = eigenValues.argsort()[0:K]  \n",
    "    eigenValues = eigenValues[idx]\n",
    "\n",
    "    V = eigenVectors[:,idx]\n",
    "\n",
    "    spectral = KMeans(n_clusters=K).fit(V)\n",
    "    labels = spectral.labels_\n",
    "    clusters, cluster_centers = clusters_formation(labels, X, K)\n",
    "    return clusters, cluster_centers, labels\n",
    "\n",
    "def clusters_formation(labels, data, m):\n",
    "    clusters = []  #Initilaizing the Clusters \n",
    "    cluster_centers = [] #Initilaizing the Clusters centers\n",
    "    for i in range(m):   #Initilaizing each Cluster Center \n",
    "        clusters.append([])\n",
    "        cluster_centers.append(0)\n",
    "    n = len(data)\n",
    "    for i in range(n):\n",
    "        clusters[labels[i]].append(data[i])\n",
    "        cluster_centers[labels[i]] = cluster_centers[labels[i]]+data[i]\n",
    "    for i in range(m):\n",
    "        cluster_centers[i] = cluster_centers[i]/len(clusters[i])\n",
    "    return clusters, cluster_centers    \n",
    "\n",
    "def loss(clusters, centers):\n",
    "    n = len(centers)\n",
    "    loss = 0\n",
    "    \n",
    "    for i in range(n): #for each cluster\n",
    "        cluster_center = centers[i]\n",
    "        cluster = clusters[i]\n",
    "        for j in cluster:\n",
    "            k = np.linalg.norm(cluster_center-j)\n",
    "            loss += k**2\n",
    "    return loss"
   ]
  },
  {
   "cell_type": "code",
   "execution_count": 16,
   "metadata": {},
   "outputs": [
    {
     "name": "stdout",
     "output_type": "stream",
     "text": [
      "7500\n"
     ]
    },
    {
     "name": "stderr",
     "output_type": "stream",
     "text": [
      "C:\\Users\\miriy\\Anaconda3\\lib\\site-packages\\ipykernel_launcher.py:9: RuntimeWarning: overflow encountered in ubyte_scalars\n",
      "  if __name__ == '__main__':\n"
     ]
    },
    {
     "name": "stdout",
     "output_type": "stream",
     "text": [
      "[1.         1.         0.60653066 ... 0.         0.         0.        ]\n",
      "(7500,)\n",
      "[25.2496313  -1.         -0.60653066 ...  0.          0.\n",
      "  0.        ]\n"
     ]
    },
    {
     "data": {
      "image/png": "[encoded data removed]",
      "text/plain": [
       "<Figure size 432x288 with 1 Axes>"
      ]
     },
     "metadata": {
      "needs_background": "light"
     },
     "output_type": "display_data"
    }
   ],
   "source": [
    "K = 2\n",
    "\n",
    "data = plt.imread(r\"C:\\Users\\miriy\\Downloads\\bw.jpg\")  #Converting a grayscale image into a list of pixel values\n",
    "\n",
    "data = data.flatten()\n",
    "print(len(data))\n",
    "sigma = 0.1\n",
    "clusters, cluster_centers, labels = spectralClustering(data, K, i)\n",
    "image_labels = np.array(labels).astype(np.float)\n",
    "image_labels = np.reshape(image_labels, (75, 100))\n",
    "Loss_Spectral = loss(clusters, cluster_centers)\n",
    "\n",
    "sk.imshow(image_labels)\n",
    "    # sk.imsave(\"Spectral.jpg\", image_labels)\n",
    "    # print('End')\n",
    "data = data.reshape(-1,1)"
   ]
  },
  {
   "cell_type": "code",
   "execution_count": 7,
   "metadata": {},
   "outputs": [
    {
     "name": "stderr",
     "output_type": "stream",
     "text": [
      "C:\\Users\\miriy\\Anaconda3\\lib\\site-packages\\skimage\\io\\_plugins\\matplotlib_plugin.py:150: UserWarning: Low image data range; displaying image with stretched contrast.\n",
      "  lo, hi, cmap = _get_display_range(image)\n"
     ]
    },
    {
     "name": "stdout",
     "output_type": "stream",
     "text": [
      "Loss_kmeans 8552679.704498377\n",
      "Loss_Spectral 83306604.07226256\n"
     ]
    },
    {
     "data": {
      "image/png": "[encoded data removed]",
      "text/plain": [
       "<Figure size 432x288 with 2 Axes>"
      ]
     },
     "metadata": {
      "needs_background": "light"
     },
     "output_type": "display_data"
    }
   ],
   "source": [
    "kmeans = KMeans(n_clusters=2).fit(data)\n",
    "clusters_kmeans = clusters_formation(kmeans.labels_, data, K)[0]\n",
    "\n",
    "\n",
    "Loss_kmeans = loss(clusters_kmeans, kmeans.cluster_centers_)\n",
    "image_labels = np.reshape(kmeans.labels_, (75, 100))\n",
    "\n",
    "sk.imshow(image_labels)\n",
    "print('Loss_kmeans', Loss_kmeans)\n",
    "#sk.imsave(\"Kmeans.jpg\", image_labels)\n",
    "print('Loss_Spectral', Loss_Spectral)"
   ]
  },
  {
   "cell_type": "code",
   "execution_count": null,
   "metadata": {},
   "outputs": [],
   "source": []
  }
 ],
 "metadata": {
  "kernelspec": {
   "display_name": "Python 3",
   "language": "python",
   "name": "python3"
  },
  "language_info": {
   "codemirror_mode": {
    "name": "ipython",
    "version": 3
   },
   "file_extension": ".py",
   "mimetype": "text/x-python",
   "name": "python",
   "nbconvert_exporter": "python",
   "pygments_lexer": "ipython3",
   "version": "3.7.6"
  }
 },
 "nbformat": 4,
 "nbformat_minor": 4
}
