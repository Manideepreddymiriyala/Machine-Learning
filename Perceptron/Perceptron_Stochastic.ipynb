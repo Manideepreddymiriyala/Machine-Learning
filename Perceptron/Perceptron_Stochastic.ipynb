{
 "cells": [
  {
   "cell_type": "code",
   "execution_count": null,
   "metadata": {},
   "outputs": [],
   "source": [
    "import pandas as pd\n",
    "import numpy as np"
   ]
  },
  {
   "cell_type": "code",
   "execution_count": null,
   "metadata": {},
   "outputs": [],
   "source": [
    "data = pd.read_csv(\"perceptron.data\",names=[\"X1\",\"X2\",\"X3\",\"X4\",\"Y\"])"
   ]
  },
  {
   "cell_type": "code",
   "execution_count": null,
   "metadata": {},
   "outputs": [],
   "source": [
    "w0=[0,0,0,0]\n",
    "b=0\n",
    "precision=0\n",
    "step_size=1\n",
    "w_list=[]\n",
    "b_list=[]\n",
    "loss=[]\n",
    "l = len(data)-1"
   ]
  },
  {
   "cell_type": "code",
   "execution_count": null,
   "metadata": {},
   "outputs": [],
   "source": [
    "def Stochs_Loss(m,w0,b):\n",
    "    x=data.iloc[m,:]\n",
    "    if ((-1*x[4]*(np.dot(x[:4],np.array(w0))+b))>=0):\n",
    "        sym=1\n",
    "    else:\n",
    "        sym=0\n",
    "    #print(\"loss:\",-1*x[4]*(np.dot(x[:4],np.array(w0))+b) )\n",
    "    delta_w = sym*x[4]*x[:4]\n",
    "    delta_b = sym*x[4]\n",
    "    return (delta_w,delta_b)"
   ]
  },
  {
   "cell_type": "code",
   "execution_count": null,
   "metadata": {},
   "outputs": [],
   "source": [
    "def ploss():\n",
    "    temp= data.apply(lambda x: (-1*x.values[4]*(np.dot(x.values[:4],np.array(w0))+b))if(-1*x.values[4]*(np.dot(x.values[:4],np.array(w0))+b))>=0 else 0,axis=1)\n",
    "    return sum(temp)\n"
   ]
  },
  {
   "cell_type": "code",
   "execution_count": null,
   "metadata": {},
   "outputs": [],
   "source": [
    "m=0\n",
    "k=0\n",
    "while(True):\n",
    "    delta_w, delta_b = Stochs_Loss(m,w0,b)  \n",
    "    w0+=step_size*delta_w\n",
    "    #print(\"w:\",w0)\n",
    "    w_list.append(list(w0))\n",
    "    b+=step_size*delta_b\n",
    "    #print(\"b:\",b)\n",
    "    b_list.append(b) \n",
    "    if ploss() == 0:\n",
    "        break\n",
    "    m=m+1 \n",
    "    if(m==1000):\n",
    "        m=0\n",
    "        k=k+1\n",
    "        #print(\"k:\",k)\n",
    "\n",
    "    "
   ]
  },
  {
   "cell_type": "code",
   "execution_count": null,
   "metadata": {},
   "outputs": [],
   "source": [
    "StochasticGradDesc(0,w0,b,step_size)"
   ]
  },
  {
   "cell_type": "code",
   "execution_count": null,
   "metadata": {},
   "outputs": [],
   "source": [
    "loss"
   ]
  },
  {
   "cell_type": "code",
   "execution_count": null,
   "metadata": {},
   "outputs": [],
   "source": [
    "w_list[-1]"
   ]
  },
  {
   "cell_type": "code",
   "execution_count": null,
   "metadata": {},
   "outputs": [],
   "source": [
    "b_list[-1]"
   ]
  },
  {
   "cell_type": "code",
   "execution_count": null,
   "metadata": {},
   "outputs": [],
   "source": []
  }
 ],
 "metadata": {
  "kernelspec": {
   "display_name": "Python 3",
   "language": "python",
   "name": "python3"
  },
  "language_info": {
   "codemirror_mode": {
    "name": "ipython",
    "version": 3
   },
   "file_extension": ".py",
   "mimetype": "text/x-python",
   "name": "python",
   "nbconvert_exporter": "python",
   "pygments_lexer": "ipython3",
   "version": "3.7.3"
  }
 },
 "nbformat": 4,
 "nbformat_minor": 2
}
