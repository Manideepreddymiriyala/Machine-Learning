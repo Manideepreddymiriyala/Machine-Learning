{
 "cells": [
  {
   "cell_type": "code",
   "execution_count": 1,
   "metadata": {},
   "outputs": [],
   "source": [
    "import numpy as np\n",
    "import pandas as pd\n",
    "import cvxopt\n",
    "from cvxopt import matrix, solvers\n",
    "import math"
   ]
  },
  {
   "cell_type": "code",
   "execution_count": 2,
   "metadata": {},
   "outputs": [],
   "source": [
    "train_data = pd.read_csv(\"spam_train.data\",header = None)\n",
    "test_data = pd.read_csv(\"spam_test.data\",header = None)\n",
    "Valid_data = pd.read_csv(\"spam_validation.data\",header = None)"
   ]
  },
  {
   "cell_type": "code",
   "execution_count": 3,
   "metadata": {},
   "outputs": [],
   "source": [
    "def targetvar(data):\n",
    "    data.loc[data[57]==0,57]=-1\n",
    "    return data"
   ]
  },
  {
   "cell_type": "code",
   "execution_count": 4,
   "metadata": {},
   "outputs": [],
   "source": [
    "train_data = targetvar(train_data)\n",
    "test_data = targetvar(test_data)\n",
    "Valid_data = targetvar(Valid_data)"
   ]
  },
  {
   "cell_type": "code",
   "execution_count": 5,
   "metadata": {},
   "outputs": [],
   "source": [
    "def split(data):\n",
    "    n = len(data.columns)-2\n",
    "    X = data.iloc[:,0:n+1]\n",
    "    Y = data.iloc[:,[n+1]]\n",
    "    return (X,Y)"
   ]
  },
  {
   "cell_type": "code",
   "execution_count": 6,
   "metadata": {},
   "outputs": [],
   "source": [
    "train_x,train_y = split(train_data)\n",
    "Valid_x,Valid_y = split(Valid_data)\n",
    "test_x,test_y = split(test_data)"
   ]
  },
  {
   "cell_type": "code",
   "execution_count": 7,
   "metadata": {},
   "outputs": [],
   "source": [
    "m,n = train_x.shape[0],train_x.shape[1]"
   ]
  },
  {
   "cell_type": "code",
   "execution_count": 8,
   "metadata": {},
   "outputs": [],
   "source": [
    "# def Gaussian(x1,x2,sigma):\n",
    "#     k = -1*sum((x1-x2)**2)/(2*sigma)\n",
    "#     return math.exp(k)"
   ]
  },
  {
   "cell_type": "code",
   "execution_count": 9,
   "metadata": {},
   "outputs": [],
   "source": [
    "def Gaussian(x1,x2,sigma):\n",
    "    K = np.zeros((x1.shape[0], x2.shape[0]))\n",
    "    for i, x in enumerate(x1):\n",
    "        for j, y in enumerate(x2):\n",
    "            K[i, j] = np.exp(-(1/2*sigma) * sum((x - y) ** 2))\n",
    "    return K"
   ]
  },
  {
   "cell_type": "code",
   "execution_count": 10,
   "metadata": {},
   "outputs": [],
   "source": [
    "def P_calc(sigma):\n",
    "    y_val = train_y[57].to_numpy()\n",
    "    y = y_val.reshape(1, -1)\n",
    "    x = train_x.to_numpy()\n",
    "#     for i in range(m):\n",
    "#         for j in range(m):\n",
    "#             P[i][j]=Y[i]*Y[j]*Gaussian(X[i],X[j],sigma)\n",
    "    calc = np.dot(y.T, y) * Gaussian(x, x, sigma)\n",
    "    return matrix(calc,tc='d')"
   ]
  },
  {
   "cell_type": "code",
   "execution_count": 11,
   "metadata": {},
   "outputs": [],
   "source": [
    "def Q_calc():\n",
    "    Q = -1*np.ones((m,1))\n",
    "    return matrix(Q,tc='d')"
   ]
  },
  {
   "cell_type": "code",
   "execution_count": 12,
   "metadata": {},
   "outputs": [],
   "source": [
    "def G_calc():\n",
    "    x1 = -1*np.eye(m)\n",
    "    x2 = np.eye(m)\n",
    "    G = np.append(x1,x2,axis=0)\n",
    "    return matrix(G, tc='d')"
   ]
  },
  {
   "cell_type": "code",
   "execution_count": 13,
   "metadata": {},
   "outputs": [],
   "source": [
    "def H_calc(C):\n",
    "    x1 = np.zeros((m,1))\n",
    "    x2 = C*np.ones((m,1))\n",
    "    H = np.append(x1,x2,axis=0)\n",
    "    return matrix(H,tc='d')"
   ]
  },
  {
   "cell_type": "code",
   "execution_count": 14,
   "metadata": {},
   "outputs": [],
   "source": [
    "def A_calc(Y):\n",
    "    return matrix(Y,tc='d')"
   ]
  },
  {
   "cell_type": "code",
   "execution_count": 15,
   "metadata": {},
   "outputs": [],
   "source": [
    "def B_calc():\n",
    "    return matrix(np.zeros((1,1)),tc='d')"
   ]
  },
  {
   "cell_type": "code",
   "execution_count": 16,
   "metadata": {},
   "outputs": [],
   "source": [
    "def Accuracy(X,Y,W,b):\n",
    "    prod =X.dot(np.array(W))+b\n",
    "    Y = Y[57].to_numpy()\n",
    "    print(prod.shape)\n",
    "    print(Y.shape)\n",
    "    res = sum(Y*np.array(prod)>0)\n",
    "    return (res/len(X)*100)"
   ]
  },
  {
   "cell_type": "code",
   "execution_count": 17,
   "metadata": {},
   "outputs": [],
   "source": [
    "# def Bias(X,Y,W):\n",
    "#     b = np.mean(Y-np.dot(X,W))"
   ]
  },
  {
   "cell_type": "code",
   "execution_count": 18,
   "metadata": {},
   "outputs": [],
   "source": [
    "Q,G,A,B = Q_calc(),G_calc(),A_calc(train_y[57].to_numpy()).T,B_calc()"
   ]
  },
  {
   "cell_type": "code",
   "execution_count": 19,
   "metadata": {},
   "outputs": [],
   "source": [
    "Valid_acc =[0]*45\n",
    "train_acc = [0]*45\n",
    "test_acc = 0\n",
    "final_C = 0\n",
    "final_b=0\n",
    "final_w = []\n",
    "final_sigma = 0\n",
    "W_list=[]\n",
    "b_list=[]"
   ]
  },
  {
   "cell_type": "code",
   "execution_count": 20,
   "metadata": {},
   "outputs": [],
   "source": [
    "X = train_x.to_numpy()\n",
    "Y = train_y[57].to_numpy()"
   ]
  },
  {
   "cell_type": "code",
   "execution_count": null,
   "metadata": {},
   "outputs": [],
   "source": [
    "for i in range(1):\n",
    "    for l in range(1):\n",
    "        C = 10**i\n",
    "        sigma = 10**l\n",
    "        P = P_calc(sigma)\n",
    "        H = H_calc(C)\n",
    "        result = cvxopt.solvers.qp(P, Q, G, H,A,B)\n",
    "        Thres = 1e-05\n",
    "        al = np.ravel(result['x'])\n",
    "#         alphas = np.where(al>Thres,al,0)\n",
    "        S = (al > Thres).reshape(-1, )\n",
    "#         temp = Y*alphas\n",
    "#         W = sum(X*temp[:, np.newaxis])\n",
    "        W=np.dot(X.T,al*Y)\n",
    "        b = Y[S] - np.dot(X[S], W) # b calculation\n",
    "        b = np.mean(b)\n",
    "#         b = np.mean(Y-np.dot(X,W))\n",
    "        W_list.append(W)\n",
    "        b_list.append(b)\n",
    "        train_Acc = Accuracy(train_x,train_y,W,b)\n",
    "        train_acc[i]= train_Acc\n",
    "        print(\"Training accuracy with C:\",C,\" and sigma:\",sigma,\" is\", train_Acc)\n",
    "        Valid_Acc = Accuracy(Valid_x,Valid_y,W,b)\n",
    "        print(\"Validation accuracy with C:\",C,\" and sigma:\",sigma,\" is\", Valid_Acc)\n",
    "        test_Acc = Accuracy(test_x,test_y,W,b)\n",
    "        print(\"Test accuracy with C:\",C,\" and sigma:\",sigma,\" is\", test_Acc)\n",
    "        if Valid_Acc>max(Valid_acc):\n",
    "            final_C = C\n",
    "            final_b = b \n",
    "            final_w = W\n",
    "            final_sigma = sigma\n",
    "        Valid_acc[i] = Valid_Acc"
   ]
  },
  {
   "cell_type": "code",
   "execution_count": 22,
   "metadata": {},
   "outputs": [
    {
     "data": {
      "text/plain": [
       "[array([ 8.52831462e+01,  9.64290638e+01,  1.80861234e+02,  2.03664761e+02,\n",
       "         3.22135231e+02,  1.40040910e+02,  3.06631092e+02,  1.95066746e+02,\n",
       "         1.20649068e+02,  2.04373897e+02,  1.15380655e+02, -1.17513176e+02,\n",
       "         8.92207364e+01,  4.13651426e+01,  9.01024752e+01,  5.44739736e+02,\n",
       "         2.58247660e+02,  2.34841420e+02,  1.31134523e+03,  2.19499305e+02,\n",
       "         9.69858246e+02,  3.20101503e+02,  2.56664380e+02,  2.07544490e+02,\n",
       "        -1.35116213e+03, -6.16023311e+02, -8.03317919e+02, -2.63130063e+02,\n",
       "        -2.56000945e+02, -2.15857570e+02, -1.40268792e+02, -8.32085296e+01,\n",
       "        -1.66510773e+02, -8.28958095e+01, -2.29171099e+02, -1.67615281e+02,\n",
       "        -2.27479127e+02, -1.51441641e+00, -1.60526142e+02, -4.81739943e+01,\n",
       "        -6.42420717e+01, -3.37871223e+02, -1.02087684e+02, -1.55965387e+02,\n",
       "        -2.82420773e+02, -7.77454619e+01, -6.36945986e+00, -6.18172379e+01,\n",
       "        -1.63260885e+01, -6.95659196e+01, -1.78521093e+01,  4.73706002e+02,\n",
       "         1.75311514e+02,  7.41033027e+01,  8.19086271e+03,  8.81774454e+04,\n",
       "         2.96898090e+05])]"
      ]
     },
     "execution_count": 22,
     "metadata": {},
     "output_type": "execute_result"
    }
   ],
   "source": [
    "W_list"
   ]
  },
  {
   "cell_type": "code",
   "execution_count": null,
   "metadata": {},
   "outputs": [],
   "source": [
    "b_list"
   ]
  },
  {
   "cell_type": "code",
   "execution_count": null,
   "metadata": {},
   "outputs": [],
   "source": [
    "test_acc = Accuracy(test_x,test_y,final_w,final_b)"
   ]
  },
  {
   "cell_type": "code",
   "execution_count": null,
   "metadata": {},
   "outputs": [],
   "source": []
  },
  {
   "cell_type": "code",
   "execution_count": null,
   "metadata": {},
   "outputs": [],
   "source": []
  }
 ],
 "metadata": {
  "kernelspec": {
   "display_name": "Python 3",
   "language": "python",
   "name": "python3"
  },
  "language_info": {
   "codemirror_mode": {
    "name": "ipython",
    "version": 3
   },
   "file_extension": ".py",
   "mimetype": "text/x-python",
   "name": "python",
   "nbconvert_exporter": "python",
   "pygments_lexer": "ipython3",
   "version": "3.7.3"
  }
 },
 "nbformat": 4,
 "nbformat_minor": 2
}
