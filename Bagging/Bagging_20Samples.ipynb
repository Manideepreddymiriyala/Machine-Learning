{
 "cells": [
  {
   "cell_type": "code",
   "execution_count": 1,
   "metadata": {},
   "outputs": [],
   "source": [
    "import pandas as pd\n",
    "import math"
   ]
  },
  {
   "cell_type": "code",
   "execution_count": 3,
   "metadata": {},
   "outputs": [],
   "source": [
    "Train_data = pd.read_csv(r'C:\\Users\\miriy\\Downloads\\heart_train.data',header = None)\n",
    "Test_data = pd.read_csv(r'C:\\Users\\miriy\\Downloads\\heart_test.data',header = None)"
   ]
  },
  {
   "cell_type": "code",
   "execution_count": 4,
   "metadata": {},
   "outputs": [],
   "source": [
    "attrs = len(Train_data.columns)  #No of Attributes\n",
    "\n",
    "rows = len(Train_data)   #No of Training Data Points"
   ]
  },
  {
   "cell_type": "code",
   "execution_count": 5,
   "metadata": {},
   "outputs": [],
   "source": [
    "def splitData(data, attribute):\n",
    "    data0 = data.loc[data[attribute] == 0, :]\n",
    "    data1 = data.loc[data[attribute] == 1, :]    \n",
    "    return data0, data1"
   ]
  },
  {
   "cell_type": "code",
   "execution_count": 6,
   "metadata": {},
   "outputs": [],
   "source": [
    "def label(data):\n",
    "    p = len(data.loc[data[0] == 1, :])\n",
    "    n = len(data.loc[data[0] == 0, :])\n",
    "    if p >= n:\n",
    "        return 1\n",
    "    else:\n",
    "        return 0"
   ]
  },
  {
   "cell_type": "code",
   "execution_count": 7,
   "metadata": {},
   "outputs": [],
   "source": [
    "def Train(data, attrList):\n",
    "    maxProb = 1\n",
    "    bestAttr = -1       \n",
    "    for i in attrList:\n",
    "        prob = 0 #prob of the target given an attribute\n",
    "        for j in range(2): #binary values so j is  0, 1 \n",
    "            temp = data.loc[data[i] == j, [0, i]]\n",
    "            tempLen = len(temp)\n",
    "            p = len(temp.loc[temp[0] == 1])\n",
    "            e = len(temp.loc[temp[0] == 0])\n",
    "            logp = 0\n",
    "            loge = 0\n",
    "            if(tempLen > 0):\n",
    "                if p > 0:\n",
    "                    logp = (math.log(p/tempLen))/(math.log(2))\n",
    "                if e > 0:\n",
    "                    loge = (math.log(e/tempLen))/(math.log(2))\n",
    "                prob = prob + -1 * tempLen/rows * ((p/tempLen)*logp+(e/tempLen)*loge)\n",
    "        if(prob <= maxProb):\n",
    "            maxProb = prob\n",
    "            bestAttr = i\n",
    "            #print(maxProb)\n",
    "            #print(bestAttr)\n",
    "    tree = {}\n",
    "    tree[bestAttr] = {}\n",
    "    data0, data1 = splitData(data, bestAttr)\n",
    "    tree[bestAttr][0] = label(data0)\n",
    "    tree[bestAttr][1] = label(data1)\n",
    "    return tree, bestAttr"
   ]
  },
  {
   "cell_type": "code",
   "execution_count": 8,
   "metadata": {},
   "outputs": [],
   "source": [
    "def output(tree, lst):\n",
    "    while(True):\n",
    "        for key, value in tree.items():\n",
    "            #print('key', key)\n",
    "            #print('value', value)\n",
    "            if value == 1 or value == 0:\n",
    "                return value\n",
    "            else:\n",
    "                k = lst[key]\n",
    "                tree = tree[key][k]\n",
    "            if tree == 1 or tree == 0:\n",
    "                return tree"
   ]
  },
  {
   "cell_type": "code",
   "execution_count": 9,
   "metadata": {},
   "outputs": [],
   "source": [
    "def acc(model, data):\n",
    "    r = len(data)\n",
    "    accuracy = 0\n",
    "    for i in range(r):\n",
    "        row = data.loc[i, :]\n",
    "        lst = [0] * 2\n",
    "        for mod in model:\n",
    "            lst[output(mod, row)] += 1\n",
    "        if lst[0] > lst[1]:\n",
    "            if row[0] == 0:\n",
    "                accuracy += 1\n",
    "        else:\n",
    "            if row[0] == 1:\n",
    "                accuracy += 1\n",
    "    \n",
    "    accuracy = accuracy/r * 100\n",
    "    return accuracy"
   ]
  },
  {
   "cell_type": "code",
   "execution_count": 10,
   "metadata": {},
   "outputs": [
    {
     "name": "stdout",
     "output_type": "stream",
     "text": [
      "Iteration 25 Accuracy 49.19786096256685\n",
      "Iteration 23 Accuracy 50.26737967914438\n",
      "Iteration 22 Accuracy 52.406417112299465\n",
      "Iteration 6 Accuracy 55.61497326203209\n",
      "Accuracy on test data set is 55.61497326203209\n",
      "Classifiers are [{7: {0: 0, 1: 1}}, {17: {0: 0, 1: 1}}, {11: {0: 0, 1: 1}}, {16: {0: 0, 1: 1}}, {22: {0: 0, 1: 1}}, {21: {0: 0, 1: 1}}, {8: {0: 0, 1: 1}}, {13: {0: 0, 1: 1}}, {18: {0: 1, 1: 1}}, {6: {0: 0, 1: 1}}, {19: {0: 1, 1: 1}}, {3: {0: 0, 1: 1}}, {20: {0: 0, 1: 1}}, {4: {0: 0, 1: 1}}, {12: {0: 0, 1: 1}}, {15: {0: 1, 1: 1}}, {14: {0: 0, 1: 1}}, {9: {0: 0, 1: 1}}, {2: {0: 0, 1: 1}}, {10: {0: 0, 1: 1}}]\n",
      "length 20\n"
     ]
    }
   ],
   "source": [
    "it = 25   #Running it for for 25 Iteration to select the best Test accuracy out of 25 Iterations\n",
    "Test_accuracy = 0\n",
    "while(it != 0):\n",
    "    n = 20  #20 samplings\n",
    "    classifiers = []\n",
    "    attributeList = []\n",
    "    \n",
    "    for i in range(1, attrs):\n",
    "            attributeList.append(i)\n",
    "    \n",
    "    for i in range(20):\n",
    "        data = Train_data.sample(n = rows, replace = True)\n",
    "        Hspace, attr = Train(data, attributeList)\n",
    "        attributeList.remove(attr)\n",
    "        classifiers.append(Hspace)\n",
    "    accuracy = acc(classifiers, Test_data) \n",
    "    if accuracy > Test_accuracy:\n",
    "        Test_accuracy = accuracy\n",
    "        print('Iteration', it, 'Accuracy', Test_accuracy)\n",
    "    it -= 1 \n",
    "print(\"Accuracy on test data set is\", Test_accuracy)    \n",
    "print('Classifiers are', classifiers)\n",
    "print('length', len(classifiers))"
   ]
  },
  {
   "cell_type": "code",
   "execution_count": null,
   "metadata": {},
   "outputs": [],
   "source": []
  },
  {
   "cell_type": "code",
   "execution_count": null,
   "metadata": {},
   "outputs": [],
   "source": []
  },
  {
   "cell_type": "code",
   "execution_count": null,
   "metadata": {},
   "outputs": [],
   "source": []
  }
 ],
 "metadata": {
  "kernelspec": {
   "display_name": "Python 3",
   "language": "python",
   "name": "python3"
  },
  "language_info": {
   "codemirror_mode": {
    "name": "ipython",
    "version": 3
   },
   "file_extension": ".py",
   "mimetype": "text/x-python",
   "name": "python",
   "nbconvert_exporter": "python",
   "pygments_lexer": "ipython3",
   "version": "3.7.3"
  }
 },
 "nbformat": 4,
 "nbformat_minor": 2
}
