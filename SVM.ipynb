{
 "cells": [
  {
   "cell_type": "code",
   "execution_count": 1,
   "metadata": {},
   "outputs": [],
   "source": [
    "import numpy as np\n",
    "import pandas as pd\n",
    "import quadprog as quad"
   ]
  },
  {
   "cell_type": "code",
   "execution_count": 2,
   "metadata": {},
   "outputs": [],
   "source": [
    "svm = pd.read_csv(r\"C:\\Users\\miriy\\Downloads\\mystery.data\", names=[\"Var1\",\"Var2\",\"Var3\",\"Var4\",\"Y\"])"
   ]
  },
  {
   "cell_type": "code",
   "execution_count": 3,
   "metadata": {},
   "outputs": [],
   "source": [
    "X = svm.loc[:, \"Var1\":\"Var4\"]\n",
    "X['Xb'] = 1\n",
    "X = X.values\n",
    "Y = svm.loc[:, \"Y\":].values"
   ]
  },
  {
   "cell_type": "code",
   "execution_count": 4,
   "metadata": {},
   "outputs": [],
   "source": [
    "def Transformation(X):\n",
    "    ft = []    \n",
    "   \n",
    "    ftx31 = X[:,0].reshape(1000,1)**3\n",
    "    ftx32 = X[:,1].reshape(1000,1)**3\n",
    "    ftx33 = X[:,2].reshape(1000,1)**3\n",
    "    ftx34 = X[:,3].reshape(1000,1)**3    \n",
    "   \n",
    "    ftx21 = X[:,0].reshape(1000,1)**2\n",
    "    ftx22 = X[:,1].reshape(1000,1)**2\n",
    "    ftx23 = X[:,2].reshape(1000,1)**2\n",
    "    ftx24 = X[:,3].reshape(1000,1)**2\n",
    "   \n",
    "   \n",
    "    ftx212 = X[:,0].reshape(1000,1)*X[:,1].reshape(1000,1)\n",
    "    ftx223 = X[:,1].reshape(1000,1)*X[:,2].reshape(1000,1)\n",
    "    ftx234 = X[:,2].reshape(1000,1)*X[:,3].reshape(1000,1)\n",
    "    ftx213 = X[:,0].reshape(1000,1)*X[:,2].reshape(1000,1)\n",
    "    ftx214 = X[:,0].reshape(1000,1)*X[:,3].reshape(1000,1)\n",
    "    ftx224 = X[:,1].reshape(1000,1)*X[:,3].reshape(1000,1)\n",
    "   \n",
    "   \n",
    "    ft = np.concatenate((ftx31, ftx32, ftx33, ftx34, ftx21, ftx22, ftx23, ftx24, ftx212, ftx223, ftx234, X), axis=1)\n",
    "    return ft"
   ]
  },
  {
   "cell_type": "code",
   "execution_count": 5,
   "metadata": {},
   "outputs": [],
   "source": [
    "def solve(X,Y):        \n",
    "    NUM, DIM = X.shape    \n",
    "    P = np.eye(DIM)\n",
    "    q = np.zeros(DIM)\n",
    "   \n",
    "    G = featureMap*Y*-1.\n",
    "    h = np.ones(NUM)*-1.\n",
    "   \n",
    "    return quad.solve_qp(.5 * P, q, -G.T,  -h, 0)"
   ]
  },
  {
   "cell_type": "code",
   "execution_count": 6,
   "metadata": {},
   "outputs": [],
   "source": [
    "def score(W, X, Y):    \n",
    "    pred = np.dot(X, W)\n",
    "    pred[pred>0] = 1\n",
    "    pred[pred<0] = -1    \n",
    "    return np.sum(pred-Y)"
   ]
  },
  {
   "cell_type": "code",
   "execution_count": 7,
   "metadata": {},
   "outputs": [],
   "source": [
    "def support_vectors(lagrange):\n",
    "    lagrange = lagrange > 0\n",
    "    return X[lagrange.ravel()]"
   ]
  },
  {
   "cell_type": "code",
   "execution_count": 8,
   "metadata": {},
   "outputs": [],
   "source": [
    "featureMap = Transformation(X)\n",
    "solution = solve(featureMap,Y)\n",
    "W = solution[0]"
   ]
  },
  {
   "cell_type": "code",
   "execution_count": 10,
   "metadata": {},
   "outputs": [
    {
     "name": "stdout",
     "output_type": "stream",
     "text": [
      "WEIGHT VECTORS  [ 5.57715117e+01  2.43938599e+00 -1.19481235e+01 -2.85422573e+01\n",
      "  1.24810054e+02 -3.79566720e+00  9.83338305e+00 -8.41185412e+01\n",
      "  7.14584105e-02  4.88019179e+00  1.07538595e+02 -9.63224918e+00\n",
      "  1.96300790e+00 -4.76537826e+01 -7.53784124e+01]\n",
      "BIAS  82.06693969476028\n",
      "MARGIN  0.004638576005529159\n",
      "SUPPORT VECTORS  [[0.01852987 0.50782148 0.71364513 0.69774797 1.        ]\n",
      " [0.67760052 0.01731556 0.22660751 0.91446604 1.        ]\n",
      " [0.56116788 0.94932549 0.95929542 0.9899408  1.        ]\n",
      " [0.523322   0.39248601 0.06702511 0.77851889 1.        ]\n",
      " [0.06156021 0.65899664 0.0993981  0.60866886 1.        ]\n",
      " [0.02269783 0.29143716 0.35408261 0.64963031 1.        ]\n",
      " [0.19385208 0.83338556 0.74510427 0.74385454 1.        ]\n",
      " [0.16933499 0.62115084 0.42461128 0.67708347 1.        ]\n",
      " [0.50743509 0.14759421 0.92070003 0.92946127 1.        ]\n",
      " [0.22847848 0.0126919  0.12022385 0.63297825 1.        ]\n",
      " [0.38033462 0.37208327 0.42427464 0.74312689 1.        ]\n",
      " [0.60270148 0.62545054 0.01968289 0.8197326  1.        ]]\n"
     ]
    }
   ],
   "source": [
    "print(\"WEIGHT VECTORS \", W[:15])\n",
    "print(\"BIAS \", W[15])\n",
    "print(\"MARGIN \",  (1 / np.sqrt((W[0:15] ** 2).sum())))\n",
    "print(\"SUPPORT VECTORS \", support_vectors(solution[4].reshape(1000,1)))"
   ]
  },
  {
   "cell_type": "code",
   "execution_count": null,
   "metadata": {},
   "outputs": [],
   "source": []
  }
 ],
 "metadata": {
  "kernelspec": {
   "display_name": "Python 3",
   "language": "python",
   "name": "python3"
  },
  "language_info": {
   "codemirror_mode": {
    "name": "ipython",
    "version": 3
   },
   "file_extension": ".py",
   "mimetype": "text/x-python",
   "name": "python",
   "nbconvert_exporter": "python",
   "pygments_lexer": "ipython3",
   "version": "3.7.3"
  }
 },
 "nbformat": 4,
 "nbformat_minor": 2
}
