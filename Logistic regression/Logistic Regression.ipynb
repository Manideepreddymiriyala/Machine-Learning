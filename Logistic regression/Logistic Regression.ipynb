{
 "cells": [
  {
   "cell_type": "code",
   "execution_count": 1,
   "metadata": {},
   "outputs": [],
   "source": [
    "import numpy as np\n",
    "import pandas as pd"
   ]
  },
  {
   "cell_type": "code",
   "execution_count": 2,
   "metadata": {},
   "outputs": [],
   "source": [
    "train_data = pd.read_csv(r\"C:\\Users\\miriy\\Downloads\\sonar_train.data\", header = None)\n",
    "test_data = pd.read_csv(r\"C:\\Users\\miriy\\Downloads\\sonar_test.data\", header= None)\n",
    "valid_data = pd.read_csv(r\"C:\\Users\\miriy\\Downloads\\sonar_valid.data\", header = None)"
   ]
  },
  {
   "cell_type": "code",
   "execution_count": 3,
   "metadata": {},
   "outputs": [
    {
     "data": {
      "text/html": [
       "<div>\n",
       "<style scoped>\n",
       "    .dataframe tbody tr th:only-of-type {\n",
       "        vertical-align: middle;\n",
       "    }\n",
       "\n",
       "    .dataframe tbody tr th {\n",
       "        vertical-align: top;\n",
       "    }\n",
       "\n",
       "    .dataframe thead th {\n",
       "        text-align: right;\n",
       "    }\n",
       "</style>\n",
       "<table border=\"1\" class=\"dataframe\">\n",
       "  <thead>\n",
       "    <tr style=\"text-align: right;\">\n",
       "      <th></th>\n",
       "      <th>0</th>\n",
       "      <th>1</th>\n",
       "      <th>2</th>\n",
       "      <th>3</th>\n",
       "      <th>4</th>\n",
       "      <th>5</th>\n",
       "      <th>6</th>\n",
       "      <th>7</th>\n",
       "      <th>8</th>\n",
       "      <th>9</th>\n",
       "      <th>...</th>\n",
       "      <th>51</th>\n",
       "      <th>52</th>\n",
       "      <th>53</th>\n",
       "      <th>54</th>\n",
       "      <th>55</th>\n",
       "      <th>56</th>\n",
       "      <th>57</th>\n",
       "      <th>58</th>\n",
       "      <th>59</th>\n",
       "      <th>60</th>\n",
       "    </tr>\n",
       "  </thead>\n",
       "  <tbody>\n",
       "    <tr>\n",
       "      <th>0</th>\n",
       "      <td>0.0392</td>\n",
       "      <td>0.0108</td>\n",
       "      <td>0.0267</td>\n",
       "      <td>0.0257</td>\n",
       "      <td>0.0410</td>\n",
       "      <td>0.0491</td>\n",
       "      <td>0.1053</td>\n",
       "      <td>0.1690</td>\n",
       "      <td>0.2105</td>\n",
       "      <td>0.2471</td>\n",
       "      <td>...</td>\n",
       "      <td>0.0083</td>\n",
       "      <td>0.0080</td>\n",
       "      <td>0.0026</td>\n",
       "      <td>0.0079</td>\n",
       "      <td>0.0042</td>\n",
       "      <td>0.0071</td>\n",
       "      <td>0.0044</td>\n",
       "      <td>0.0022</td>\n",
       "      <td>0.0014</td>\n",
       "      <td>2</td>\n",
       "    </tr>\n",
       "    <tr>\n",
       "      <th>1</th>\n",
       "      <td>0.1021</td>\n",
       "      <td>0.0830</td>\n",
       "      <td>0.0577</td>\n",
       "      <td>0.0627</td>\n",
       "      <td>0.0635</td>\n",
       "      <td>0.1328</td>\n",
       "      <td>0.0988</td>\n",
       "      <td>0.1787</td>\n",
       "      <td>0.1199</td>\n",
       "      <td>0.1369</td>\n",
       "      <td>...</td>\n",
       "      <td>0.0709</td>\n",
       "      <td>0.0317</td>\n",
       "      <td>0.0309</td>\n",
       "      <td>0.0252</td>\n",
       "      <td>0.0087</td>\n",
       "      <td>0.0177</td>\n",
       "      <td>0.0214</td>\n",
       "      <td>0.0227</td>\n",
       "      <td>0.0106</td>\n",
       "      <td>2</td>\n",
       "    </tr>\n",
       "    <tr>\n",
       "      <th>2</th>\n",
       "      <td>0.0025</td>\n",
       "      <td>0.0309</td>\n",
       "      <td>0.0171</td>\n",
       "      <td>0.0228</td>\n",
       "      <td>0.0434</td>\n",
       "      <td>0.1224</td>\n",
       "      <td>0.1947</td>\n",
       "      <td>0.1661</td>\n",
       "      <td>0.1368</td>\n",
       "      <td>0.1430</td>\n",
       "      <td>...</td>\n",
       "      <td>0.0149</td>\n",
       "      <td>0.0077</td>\n",
       "      <td>0.0036</td>\n",
       "      <td>0.0114</td>\n",
       "      <td>0.0085</td>\n",
       "      <td>0.0101</td>\n",
       "      <td>0.0016</td>\n",
       "      <td>0.0028</td>\n",
       "      <td>0.0014</td>\n",
       "      <td>1</td>\n",
       "    </tr>\n",
       "    <tr>\n",
       "      <th>3</th>\n",
       "      <td>0.0335</td>\n",
       "      <td>0.0134</td>\n",
       "      <td>0.0696</td>\n",
       "      <td>0.1180</td>\n",
       "      <td>0.0348</td>\n",
       "      <td>0.1180</td>\n",
       "      <td>0.1948</td>\n",
       "      <td>0.1607</td>\n",
       "      <td>0.3036</td>\n",
       "      <td>0.4372</td>\n",
       "      <td>...</td>\n",
       "      <td>0.0244</td>\n",
       "      <td>0.0232</td>\n",
       "      <td>0.0093</td>\n",
       "      <td>0.0159</td>\n",
       "      <td>0.0193</td>\n",
       "      <td>0.0032</td>\n",
       "      <td>0.0377</td>\n",
       "      <td>0.0126</td>\n",
       "      <td>0.0156</td>\n",
       "      <td>2</td>\n",
       "    </tr>\n",
       "    <tr>\n",
       "      <th>4</th>\n",
       "      <td>0.0100</td>\n",
       "      <td>0.0194</td>\n",
       "      <td>0.0155</td>\n",
       "      <td>0.0489</td>\n",
       "      <td>0.0839</td>\n",
       "      <td>0.1009</td>\n",
       "      <td>0.1627</td>\n",
       "      <td>0.2071</td>\n",
       "      <td>0.2696</td>\n",
       "      <td>0.2990</td>\n",
       "      <td>...</td>\n",
       "      <td>0.0130</td>\n",
       "      <td>0.0073</td>\n",
       "      <td>0.0077</td>\n",
       "      <td>0.0075</td>\n",
       "      <td>0.0060</td>\n",
       "      <td>0.0080</td>\n",
       "      <td>0.0019</td>\n",
       "      <td>0.0053</td>\n",
       "      <td>0.0019</td>\n",
       "      <td>1</td>\n",
       "    </tr>\n",
       "  </tbody>\n",
       "</table>\n",
       "<p>5 rows × 61 columns</p>\n",
       "</div>"
      ],
      "text/plain": [
       "       0       1       2       3       4       5       6       7       8   \\\n",
       "0  0.0392  0.0108  0.0267  0.0257  0.0410  0.0491  0.1053  0.1690  0.2105   \n",
       "1  0.1021  0.0830  0.0577  0.0627  0.0635  0.1328  0.0988  0.1787  0.1199   \n",
       "2  0.0025  0.0309  0.0171  0.0228  0.0434  0.1224  0.1947  0.1661  0.1368   \n",
       "3  0.0335  0.0134  0.0696  0.1180  0.0348  0.1180  0.1948  0.1607  0.3036   \n",
       "4  0.0100  0.0194  0.0155  0.0489  0.0839  0.1009  0.1627  0.2071  0.2696   \n",
       "\n",
       "       9   ...      51      52      53      54      55      56      57  \\\n",
       "0  0.2471  ...  0.0083  0.0080  0.0026  0.0079  0.0042  0.0071  0.0044   \n",
       "1  0.1369  ...  0.0709  0.0317  0.0309  0.0252  0.0087  0.0177  0.0214   \n",
       "2  0.1430  ...  0.0149  0.0077  0.0036  0.0114  0.0085  0.0101  0.0016   \n",
       "3  0.4372  ...  0.0244  0.0232  0.0093  0.0159  0.0193  0.0032  0.0377   \n",
       "4  0.2990  ...  0.0130  0.0073  0.0077  0.0075  0.0060  0.0080  0.0019   \n",
       "\n",
       "       58      59  60  \n",
       "0  0.0022  0.0014   2  \n",
       "1  0.0227  0.0106   2  \n",
       "2  0.0028  0.0014   1  \n",
       "3  0.0126  0.0156   2  \n",
       "4  0.0053  0.0019   1  \n",
       "\n",
       "[5 rows x 61 columns]"
      ]
     },
     "execution_count": 3,
     "metadata": {},
     "output_type": "execute_result"
    }
   ],
   "source": [
    "train_data.head()"
   ]
  },
  {
   "cell_type": "code",
   "execution_count": 4,
   "metadata": {},
   "outputs": [],
   "source": [
    "train_y = train_data.iloc[:,60].values\n",
    "test_y = test_data.iloc[:,60].values\n",
    "valid_y = valid_data.iloc[:,60].values"
   ]
  },
  {
   "cell_type": "code",
   "execution_count": 5,
   "metadata": {},
   "outputs": [],
   "source": [
    "train_y[train_y==2]=-1\n",
    "test_y[test_y==2]=-1\n",
    "valid_y[valid_y==2]=-1"
   ]
  },
  {
   "cell_type": "code",
   "execution_count": 6,
   "metadata": {},
   "outputs": [],
   "source": [
    "train_y = train_y.reshape((train_data.shape[0],1))\n",
    "test_y = test_y.reshape((test_data.shape[0],1))\n",
    "valid_y = valid_y.reshape((valid_data.shape[0],1))"
   ]
  },
  {
   "cell_type": "code",
   "execution_count": 7,
   "metadata": {},
   "outputs": [],
   "source": [
    "train_data = train_data.iloc[:,0:60].values\n",
    "test_data = test_data.iloc[:,0:60].values\n",
    "valid_data = valid_data.iloc[:,0:60].values"
   ]
  },
  {
   "cell_type": "code",
   "execution_count": 8,
   "metadata": {},
   "outputs": [
    {
     "data": {
      "text/plain": [
       "array([[0.0392, 0.0108, 0.0267, ..., 0.0044, 0.0022, 0.0014],\n",
       "       [0.1021, 0.083 , 0.0577, ..., 0.0214, 0.0227, 0.0106],\n",
       "       [0.0025, 0.0309, 0.0171, ..., 0.0016, 0.0028, 0.0014],\n",
       "       ...,\n",
       "       [0.031 , 0.0221, 0.0433, ..., 0.0056, 0.0067, 0.0054],\n",
       "       [0.0366, 0.0421, 0.0504, ..., 0.0017, 0.0027, 0.0027],\n",
       "       [0.0117, 0.0069, 0.0279, ..., 0.0062, 0.0026, 0.0052]])"
      ]
     },
     "execution_count": 8,
     "metadata": {},
     "output_type": "execute_result"
    }
   ],
   "source": [
    "train_data"
   ]
  },
  {
   "cell_type": "code",
   "execution_count": 9,
   "metadata": {},
   "outputs": [],
   "source": [
    "def sigmoid(weight,bias):\n",
    "    x = np.dot(train_data,weight)+bias\n",
    "    return (1/(1+np.exp(-x)))"
   ]
  },
  {
   "cell_type": "code",
   "execution_count": 10,
   "metadata": {},
   "outputs": [],
   "source": [
    "def loss_calc(param,l,weight,bias,data,y):\n",
    "    t = np.dot(data,weight)+bias\n",
    "    if param==\"l0\":\n",
    "        return np.sum(y*t-np.log(1+np.exp(t)))\n",
    "    elif param == \"l1\":\n",
    "        return np.sum(y*t-np.log(1+np.exp(t)))-l*np.linalg.norm(weight)\n",
    "    else:\n",
    "        return np.sum(y*t-np.log(1+np.exp(t))) -l*(np.linalg.norm(weight) ** 2)"
   ]
  },
  {
   "cell_type": "code",
   "execution_count": 11,
   "metadata": {},
   "outputs": [],
   "source": [
    "def regularization(param,w,l):\n",
    "    if param==\"l0\":\n",
    "        return np.zeros((60,1))\n",
    "    else:\n",
    "        return l*w"
   ]
  },
  {
   "cell_type": "code",
   "execution_count": 12,
   "metadata": {},
   "outputs": [],
   "source": [
    "def logistic_regression(param,l,weight,bias,learning_rate):\n",
    "    iters = 0\n",
    "    while True:\n",
    "        loss= loss_calc(param,l,weight,bias,train_data,train_y)\n",
    "        iters+=1\n",
    "        w_grad = np.sum(train_data*((train_y+1)/2-sigmoid(weight,bias)),axis = 0).reshape((60,1))- regularization(param,weight,l)\n",
    "        b_grad = np.sum((train_y+1)/2-sigmoid(weight,bias),axis=0)\n",
    "        weight += learning_rate*w_grad \n",
    "        bias += learning_rate*b_grad\n",
    "        loss_new = loss_calc(param,l,weight,bias,train_data,train_y)\n",
    "        #print(iters,loss,loss_new)\n",
    "        if iters > 2 and (loss_new-loss)<0.0001:\n",
    "            break\n",
    "    return weight, bias   "
   ]
  },
  {
   "cell_type": "code",
   "execution_count": 13,
   "metadata": {},
   "outputs": [],
   "source": [
    "def accuracy(weight,bias,data,y):\n",
    "    m =data.shape[0]\n",
    "    return sum((y*(np.dot(data,weight)+bias))>0)*100/m"
   ]
  },
  {
   "cell_type": "code",
   "execution_count": 14,
   "metadata": {},
   "outputs": [
    {
     "name": "stderr",
     "output_type": "stream",
     "text": [
      "C:\\Users\\miriy\\Anaconda3\\lib\\site-packages\\ipykernel_launcher.py:3: RuntimeWarning: overflow encountered in exp\n",
      "  This is separate from the ipykernel package so we can avoid doing imports until\n",
      "C:\\Users\\miriy\\Anaconda3\\lib\\site-packages\\ipykernel_launcher.py:4: RuntimeWarning: overflow encountered in exp\n",
      "  after removing the cwd from sys.path.\n"
     ]
    }
   ],
   "source": [
    "lr = [1000,100,10,1,0.1,0.01,0.001]\n",
    "best_lr=0\n",
    "best_ac = 0\n",
    "best_b = 0\n",
    "best_w =0\n",
    "for i in lr:\n",
    "    w = np.array([0.1]*60).reshape((60,1))\n",
    "    b=0.5\n",
    "    w, b = logistic_regression(\"l0\",1,w,b,i)\n",
    "    ac = accuracy(w,b,valid_data,valid_y)\n",
    "    if ac> best_ac:\n",
    "        best_ac =ac\n",
    "        best_lr =i\n",
    "        best_b=b\n",
    "        best_w = w"
   ]
  },
  {
   "cell_type": "code",
   "execution_count": 15,
   "metadata": {},
   "outputs": [
    {
     "data": {
      "text/plain": [
       "array([78.84615385])"
      ]
     },
     "execution_count": 15,
     "metadata": {},
     "output_type": "execute_result"
    }
   ],
   "source": [
    "best_ac"
   ]
  },
  {
   "cell_type": "code",
   "execution_count": 16,
   "metadata": {},
   "outputs": [
    {
     "data": {
      "text/plain": [
       "0.001"
      ]
     },
     "execution_count": 16,
     "metadata": {},
     "output_type": "execute_result"
    }
   ],
   "source": [
    "best_lr"
   ]
  },
  {
   "cell_type": "code",
   "execution_count": 17,
   "metadata": {},
   "outputs": [
    {
     "data": {
      "text/plain": [
       "(array([[-38.88394747],\n",
       "        [-27.76551832],\n",
       "        [ 21.56638472],\n",
       "        [-30.82776708],\n",
       "        [ -4.34304187],\n",
       "        [ 11.23869881],\n",
       "        [  5.08054746],\n",
       "        [ 56.0967234 ],\n",
       "        [-53.31934313],\n",
       "        [  3.96212492],\n",
       "        [ -2.09450693],\n",
       "        [ -4.40956303],\n",
       "        [ -9.63626857],\n",
       "        [  8.14318806],\n",
       "        [ -9.65596739],\n",
       "        [  6.40343128],\n",
       "        [ 32.42485645],\n",
       "        [-19.24313517],\n",
       "        [ -6.96515723],\n",
       "        [-10.34473506],\n",
       "        [ 13.16877369],\n",
       "        [-10.90342363],\n",
       "        [  0.26208963],\n",
       "        [ -5.34889249],\n",
       "        [  0.92961055],\n",
       "        [ -7.2613326 ],\n",
       "        [ 15.38202779],\n",
       "        [ -8.48375885],\n",
       "        [  7.43346838],\n",
       "        [-24.88302156],\n",
       "        [ 34.96370145],\n",
       "        [-16.38502983],\n",
       "        [ -2.19013242],\n",
       "        [ 22.48258175],\n",
       "        [-23.66798381],\n",
       "        [ 29.30201712],\n",
       "        [ -7.64769664],\n",
       "        [ -3.29452741],\n",
       "        [  1.53696415],\n",
       "        [ 16.21940288],\n",
       "        [-27.58317321],\n",
       "        [ 18.92268306],\n",
       "        [-21.02550489],\n",
       "        [ -3.76464308],\n",
       "        [ -5.32633947],\n",
       "        [ 13.54326557],\n",
       "        [-12.01178234],\n",
       "        [-40.93333122],\n",
       "        [-27.49010067],\n",
       "        [ 24.8504796 ],\n",
       "        [ -3.99600187],\n",
       "        [-11.40619908],\n",
       "        [ -6.29206124],\n",
       "        [ -6.79704184],\n",
       "        [  3.47208263],\n",
       "        [ -1.77997747],\n",
       "        [  4.3214516 ],\n",
       "        [-10.20035963],\n",
       "        [-13.12670822],\n",
       "        [-10.29225919]]),\n",
       " array([12.28232712]))"
      ]
     },
     "execution_count": 17,
     "metadata": {},
     "output_type": "execute_result"
    }
   ],
   "source": [
    "best_w,best_b"
   ]
  },
  {
   "cell_type": "code",
   "execution_count": 18,
   "metadata": {},
   "outputs": [
    {
     "name": "stdout",
     "output_type": "stream",
     "text": [
      "Accuracy on Test set is: [76.92307692]\n"
     ]
    }
   ],
   "source": [
    "acc = accuracy(best_w,best_b,test_data,test_y)\n",
    "print(\"Accuracy on Test set is:\",acc)"
   ]
  },
  {
   "cell_type": "code",
   "execution_count": 19,
   "metadata": {},
   "outputs": [
    {
     "name": "stdout",
     "output_type": "stream",
     "text": [
      "Accuracy on train set is: [100.]\n"
     ]
    }
   ],
   "source": [
    "acc1 = accuracy(best_w,best_b,train_data,train_y)\n",
    "print(\"Accuracy on train set is:\",acc1)"
   ]
  },
  {
   "cell_type": "code",
   "execution_count": 20,
   "metadata": {},
   "outputs": [
    {
     "name": "stderr",
     "output_type": "stream",
     "text": [
      "C:\\Users\\miriy\\Anaconda3\\lib\\site-packages\\ipykernel_launcher.py:3: RuntimeWarning: overflow encountered in exp\n",
      "  This is separate from the ipykernel package so we can avoid doing imports until\n",
      "C:\\Users\\miriy\\Anaconda3\\lib\\site-packages\\ipykernel_launcher.py:8: RuntimeWarning: overflow encountered in exp\n",
      "  \n"
     ]
    }
   ],
   "source": [
    "l = [0.001,0.01,0.1,1,10,100,1000]\n",
    "lr = [0.001,0.01,0.1,1,10,100,1000]\n",
    "Valid_acc_l2 = []\n",
    "weight_list_l2=[]\n",
    "bias_list_l2=[]\n",
    "best_l_l2=0\n",
    "best_acc_l2=0\n",
    "best_weight_l2=0\n",
    "best_bias_l2=0\n",
    "best_lr_l2 = 0\n",
    "for i in l:\n",
    "    for j in lr:\n",
    "        w = np.array([0.1]*60).reshape((60,1))\n",
    "        b=0.5\n",
    "        w, b = logistic_regression(\"l2\",i,w,b,j)\n",
    "        acc = accuracy(w,b,valid_data,valid_y)\n",
    "        Valid_acc_l2.append(acc)\n",
    "        weight_list_l2.append(w)\n",
    "        bias_list_l2.append(b)\n",
    "        if best_acc_l2<acc:\n",
    "            best_acc_l2=acc\n",
    "            best_weight_l2 =w\n",
    "            best_bias_l2 = b\n",
    "            best_l_l2=i\n",
    "            best_lr_l2 = j"
   ]
  },
  {
   "cell_type": "code",
   "execution_count": 21,
   "metadata": {},
   "outputs": [
    {
     "data": {
      "text/plain": [
       "array([80.76923077])"
      ]
     },
     "execution_count": 21,
     "metadata": {},
     "output_type": "execute_result"
    }
   ],
   "source": [
    "best_acc_l2"
   ]
  },
  {
   "cell_type": "code",
   "execution_count": 22,
   "metadata": {},
   "outputs": [
    {
     "data": {
      "text/plain": [
       "(0.001, 0.001)"
      ]
     },
     "execution_count": 22,
     "metadata": {},
     "output_type": "execute_result"
    }
   ],
   "source": [
    "best_lr_l2, best_l_l2"
   ]
  },
  {
   "cell_type": "code",
   "execution_count": 23,
   "metadata": {},
   "outputs": [
    {
     "name": "stdout",
     "output_type": "stream",
     "text": [
      "[7.36378382] [[-19.66713623]\n",
      " [-12.75452138]\n",
      " [  9.16751103]\n",
      " [-16.96484394]\n",
      " [ -0.69719615]\n",
      " [  4.81009777]\n",
      " [  7.24423164]\n",
      " [ 28.67187088]\n",
      " [-28.70358962]\n",
      " [  0.4452169 ]\n",
      " [ -2.63391869]\n",
      " [ -3.84420733]\n",
      " [ -4.36935871]\n",
      " [  3.06598224]\n",
      " [ -5.73809783]\n",
      " [  4.2973959 ]\n",
      " [ 20.08873559]\n",
      " [-11.89948834]\n",
      " [ -3.98752848]\n",
      " [ -5.64621652]\n",
      " [  5.99999404]\n",
      " [ -5.63098692]\n",
      " [ -1.20111063]\n",
      " [ -1.3598877 ]\n",
      " [ -1.61299787]\n",
      " [  0.66076354]\n",
      " [  6.05789716]\n",
      " [ -4.04662904]\n",
      " [  3.83217514]\n",
      " [-13.03933713]\n",
      " [ 19.60865495]\n",
      " [-11.09819228]\n",
      " [ -0.251453  ]\n",
      " [ 11.73119625]\n",
      " [-11.58556087]\n",
      " [ 14.34656819]\n",
      " [ -2.24508768]\n",
      " [ -3.04445359]\n",
      " [  0.89858875]\n",
      " [ 11.17262427]\n",
      " [-14.20011012]\n",
      " [ 10.17240072]\n",
      " [-12.34050461]\n",
      " [ -3.59665276]\n",
      " [ -1.86718376]\n",
      " [  5.77086872]\n",
      " [-10.1324993 ]\n",
      " [-24.30251202]\n",
      " [-14.42216281]\n",
      " [ 10.46335923]\n",
      " [ -3.11981972]\n",
      " [ -5.59177041]\n",
      " [ -2.81896204]\n",
      " [ -3.35862269]\n",
      " [  1.81399392]\n",
      " [ -1.39309162]\n",
      " [  1.62388737]\n",
      " [ -5.19065944]\n",
      " [ -5.79376871]\n",
      " [ -5.13877949]]\n"
     ]
    }
   ],
   "source": [
    "print (best_bias_l2, best_weight_l2)"
   ]
  },
  {
   "cell_type": "code",
   "execution_count": 24,
   "metadata": {},
   "outputs": [
    {
     "name": "stdout",
     "output_type": "stream",
     "text": [
      "Accuracy using l2 regularization with best weight and bias on Test set is: [80.76923077]\n"
     ]
    }
   ],
   "source": [
    "Acc = accuracy(best_weight_l2,best_bias_l2,test_data,test_y)\n",
    "print(\"Accuracy using l2 regularization with best weight and bias on Test set is:\",Acc)"
   ]
  },
  {
   "cell_type": "code",
   "execution_count": 25,
   "metadata": {},
   "outputs": [
    {
     "data": {
      "text/plain": [
       "array([99.03846154])"
      ]
     },
     "execution_count": 25,
     "metadata": {},
     "output_type": "execute_result"
    }
   ],
   "source": [
    "accuracy(best_weight_l2,best_bias_l2,train_data,train_y)"
   ]
  },
  {
   "cell_type": "code",
   "execution_count": 26,
   "metadata": {},
   "outputs": [
    {
     "name": "stderr",
     "output_type": "stream",
     "text": [
      "C:\\Users\\miriy\\Anaconda3\\lib\\site-packages\\ipykernel_launcher.py:3: RuntimeWarning: overflow encountered in exp\n",
      "  This is separate from the ipykernel package so we can avoid doing imports until\n",
      "C:\\Users\\miriy\\Anaconda3\\lib\\site-packages\\ipykernel_launcher.py:6: RuntimeWarning: overflow encountered in exp\n",
      "  \n"
     ]
    }
   ],
   "source": [
    "l = [1000,100,10,1,0.1,0.01,0.001]\n",
    "lr = [1000,100,10,1,0.1,0.01,0.001]\n",
    "Valid_acc_l1 = []\n",
    "weight_list_l1=[]\n",
    "bias_list_l1=[]\n",
    "best_l_l1=0\n",
    "best_acc_l1=0\n",
    "best_weight_l1=0\n",
    "best_bias_l1=0\n",
    "best_lr_l1 = 0\n",
    "for i in l:\n",
    "    for j in lr:\n",
    "        w = np.array([0.1]*60).reshape((60,1))\n",
    "        b=0.5\n",
    "        w, b = logistic_regression(\"l1\",i,w,b,j)\n",
    "        acc = accuracy(w,b,valid_data,valid_y)\n",
    "        Valid_acc_l1.append(acc)\n",
    "        weight_list_l1.append(w)\n",
    "        bias_list_l1.append(b)\n",
    "        if best_acc_l1<acc:\n",
    "            best_acc_l1=acc\n",
    "            best_weight_l1 =w\n",
    "            best_bias_l1 = b\n",
    "            best_l_l1=i\n",
    "            best_lr_l1 =j"
   ]
  },
  {
   "cell_type": "code",
   "execution_count": 27,
   "metadata": {},
   "outputs": [
    {
     "data": {
      "text/plain": [
       "array([80.76923077])"
      ]
     },
     "execution_count": 27,
     "metadata": {},
     "output_type": "execute_result"
    }
   ],
   "source": [
    "best_acc_l1"
   ]
  },
  {
   "cell_type": "code",
   "execution_count": 28,
   "metadata": {
    "scrolled": true
   },
   "outputs": [
    {
     "data": {
      "text/plain": [
       "(0.001, 1)"
      ]
     },
     "execution_count": 28,
     "metadata": {},
     "output_type": "execute_result"
    }
   ],
   "source": [
    "best_lr_l1, best_l_l1"
   ]
  },
  {
   "cell_type": "code",
   "execution_count": 29,
   "metadata": {},
   "outputs": [
    {
     "name": "stdout",
     "output_type": "stream",
     "text": [
      "[1.08894541] [[-0.18191028]\n",
      " [-0.17553854]\n",
      " [-0.11932074]\n",
      " [-0.22730637]\n",
      " [-0.03616732]\n",
      " [ 0.09699172]\n",
      " [ 0.16238014]\n",
      " [ 0.00868702]\n",
      " [-0.79278901]\n",
      " [-0.84187603]\n",
      " [-1.11752658]\n",
      " [-1.06061883]\n",
      " [-0.80541676]\n",
      " [-0.22744702]\n",
      " [ 0.07501798]\n",
      " [ 0.52217558]\n",
      " [ 0.68421774]\n",
      " [ 0.28004727]\n",
      " [-0.35755668]\n",
      " [-0.64298641]\n",
      " [-0.34194892]\n",
      " [-0.25215069]\n",
      " [-0.38622567]\n",
      " [-0.15463364]\n",
      " [ 0.33892591]\n",
      " [ 0.58094714]\n",
      " [ 0.12162592]\n",
      " [-0.26326327]\n",
      " [-0.11956691]\n",
      " [-0.2121798 ]\n",
      " [ 0.19530047]\n",
      " [-0.45706834]\n",
      " [-0.0082746 ]\n",
      " [ 0.50647813]\n",
      " [ 0.54800413]\n",
      " [ 0.88301602]\n",
      " [ 0.61494623]\n",
      " [-0.1100696 ]\n",
      " [-0.12828989]\n",
      " [ 0.47496512]\n",
      " [ 0.20901707]\n",
      " [-0.14401016]\n",
      " [-0.83702146]\n",
      " [-0.86948864]\n",
      " [-0.76294462]\n",
      " [-0.51253826]\n",
      " [-0.47900509]\n",
      " [-0.48326593]\n",
      " [-0.27143062]\n",
      " [-0.01359121]\n",
      " [-0.09345307]\n",
      " [-0.07441654]\n",
      " [-0.028107  ]\n",
      " [-0.03665482]\n",
      " [ 0.01152312]\n",
      " [-0.02650072]\n",
      " [ 0.00722721]\n",
      " [-0.03860953]\n",
      " [-0.02709447]\n",
      " [-0.01855204]]\n"
     ]
    }
   ],
   "source": [
    "print(best_bias_l1,best_weight_l1)"
   ]
  },
  {
   "cell_type": "code",
   "execution_count": 30,
   "metadata": {},
   "outputs": [
    {
     "data": {
      "text/plain": [
       "array([81.73076923])"
      ]
     },
     "execution_count": 30,
     "metadata": {},
     "output_type": "execute_result"
    }
   ],
   "source": [
    "accuracy(best_weight_l1,best_bias_l1,train_data,train_y)"
   ]
  },
  {
   "cell_type": "code",
   "execution_count": 31,
   "metadata": {},
   "outputs": [
    {
     "name": "stdout",
     "output_type": "stream",
     "text": [
      "Accuracy using l1 regularization with best weight and bias on Test set is: [75.]\n"
     ]
    }
   ],
   "source": [
    "Acc = accuracy(best_weight_l1,best_bias_l1,test_data,test_y)\n",
    "print(\"Accuracy using l1 regularization with best weight and bias on Test set is:\",Acc)"
   ]
  },
  {
   "cell_type": "code",
   "execution_count": null,
   "metadata": {},
   "outputs": [],
   "source": []
  }
 ],
 "metadata": {
  "kernelspec": {
   "display_name": "Python 3",
   "language": "python",
   "name": "python3"
  },
  "language_info": {
   "codemirror_mode": {
    "name": "ipython",
    "version": 3
   },
   "file_extension": ".py",
   "mimetype": "text/x-python",
   "name": "python",
   "nbconvert_exporter": "python",
   "pygments_lexer": "ipython3",
   "version": "3.7.6"
  }
 },
 "nbformat": 4,
 "nbformat_minor": 4
}
