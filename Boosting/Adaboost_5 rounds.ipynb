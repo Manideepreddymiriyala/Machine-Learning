{
 "cells": [
  {
   "cell_type": "code",
   "execution_count": 1,
   "metadata": {},
   "outputs": [],
   "source": [
    "import pandas as pd\n",
    "import numpy as np\n",
    "import math\n",
    "import time"
   ]
  },
  {
   "cell_type": "code",
   "execution_count": 3,
   "metadata": {},
   "outputs": [],
   "source": [
    "Train_data = pd.read_csv(r'C:\\Users\\miriy\\Downloads\\heart_train.data',header = None)\n",
    "Test_data = pd.read_csv(r'C:\\Users\\miriy\\Downloads\\heart_test.data',header = None)"
   ]
  },
  {
   "cell_type": "code",
   "execution_count": 4,
   "metadata": {},
   "outputs": [],
   "source": [
    "Train_data.loc[Train_data[0] == 0, 0] = -1\n",
    "Test_data.loc[Test_data[0] == 0, 0] = -1"
   ]
  },
  {
   "cell_type": "code",
   "execution_count": 5,
   "metadata": {},
   "outputs": [],
   "source": [
    "attrs = len(Train_data.columns)  #No of Attributes\n",
    "\n",
    "rows = len(Train_data)"
   ]
  },
  {
   "cell_type": "code",
   "execution_count": 6,
   "metadata": {},
   "outputs": [],
   "source": [
    "Train_data = np.array(Train_data.iloc[:,:])\n",
    "Test_data = np.array(Test_data.iloc[:,:])"
   ]
  },
  {
   "cell_type": "code",
   "execution_count": 7,
   "metadata": {},
   "outputs": [],
   "source": [
    "def output(tree, lst):\n",
    "    while(True):\n",
    "        for key, value in tree.items():\n",
    "            #print('key', key)\n",
    "            #print('value', value)\n",
    "            if value == 1 or value == -1:\n",
    "                return value\n",
    "            else:\n",
    "                k = lst[key]\n",
    "                tree = tree[key][k]\n",
    "            if tree == 1 or tree == -1:\n",
    "                return tree"
   ]
  },
  {
   "cell_type": "code",
   "execution_count": 8,
   "metadata": {},
   "outputs": [],
   "source": [
    "def AdaBoost(rounds, model, data):\n",
    "    weightedError = 1\n",
    "    weight = [1/rows]*rows #Initial weight matrix\n",
    "    alpha = []\n",
    "    HSpace = [] #Total hypothesis space\n",
    "    predictions = []\n",
    "    labels = []\n",
    "    eps = []    #Weighted errors\n",
    "    for r in range(rounds):\n",
    "        print('round',r+1)\n",
    "        weightedError = 1\n",
    "        it = 0\n",
    "        for mod in model:\n",
    "            w = 0\n",
    "            if r == 0:\n",
    "                labels.append([])\n",
    "            lst = []\n",
    "            for i in range(rows):\n",
    "                row = data[i, :]\n",
    "                if r == 0:\n",
    "                    k = output(mod, row)\n",
    "                    lst.append(k)\n",
    "                    if row[0] != k:\n",
    "                        w = w + weight[i]\n",
    "                    labels[it].append(k)\n",
    "                else:\n",
    "                    k = labels[it][i]\n",
    "                    lst.append(k)\n",
    "                    if row[0] != k:\n",
    "                        w = w + weight[i]\n",
    "                    if w > weightedError or w > 0.5:#Optimization\n",
    "                        break\n",
    "            if w < weightedError:\n",
    "                weightedError = w\n",
    "                bTree = mod #bTree indicates it is a best tree\n",
    "                bestP = lst\n",
    "            it += 1\n",
    "        HSpace.append(bTree)\n",
    "        eps.append(weightedError)\n",
    "        t = 1/2 * math.log((1-weightedError)/weightedError)\n",
    "        alpha.append(t)\n",
    "        #Weight Updation\n",
    "        sum1 = 0\n",
    "        predictions.append(bestP)\n",
    "        for i in range(rows):\n",
    "            prediction = bestP[i]\n",
    "            actual = data[i, 0]\n",
    "            #print(prediction, actual)\n",
    "            weight[i] = (weight[i] * (np.exp(-1 * prediction * actual * t)))/(2*np.sqrt(weightedError * (1-weightedError)))\n",
    "            sum1 += weight[i]\n",
    "        print(\"sum\", sum1)\n",
    "        #print(weight)\n",
    "        #print(alpha)\n",
    "        print(weightedError)                                  \n",
    "    return eps, alpha, HSpace, predictions"
   ]
  },
  {
   "cell_type": "code",
   "execution_count": 15,
   "metadata": {},
   "outputs": [],
   "source": [
    "def Hypothesis():\n",
    "    hypo = []\n",
    "    lst = [1, -1]\n",
    "    for i in range(1, attrs):#attribute iteration\n",
    "        for j in range(1, attrs):\n",
    "#             for k in range(1, attrs):#5 different cases for 3 attribute splits\n",
    "#         for a in lst:\n",
    "            for a in lst:\n",
    "                for b in lst:\n",
    "                    for c in lst:\n",
    "                        tree = {}                #case 1 LL\n",
    "                        tree[i] = {}\n",
    "                        tree[i][1] = a\n",
    "                        tree1 = {}\n",
    "                        tree1[j] = {}\n",
    "                        tree1[j][0] = b\n",
    "                        tree1[j][1] = c\n",
    "                        tree[i][0] = tree1\n",
    "                        hypo.append(tree)\n",
    "                        \n",
    "                        tree = {}                #case 2 LR\n",
    "                        tree[i] = {}\n",
    "                        tree[i][0] = a\n",
    "                        tree1 = {}\n",
    "                        tree1[j] = {}\n",
    "                        tree1[j][0] = b\n",
    "                        tree1[j][1] = c\n",
    "                        tree[i][1] = tree1\n",
    "                        hypo.append(tree)\n",
    "                         \n",
    "    return hypo"
   ]
  },
  {
   "cell_type": "code",
   "execution_count": 16,
   "metadata": {},
   "outputs": [
    {
     "name": "stdout",
     "output_type": "stream",
     "text": [
      "starting time\n",
      "end\n",
      "0.01997661590576172 secs\n",
      "Generated Hypothesis spaces\n",
      "round 1\n",
      "sum 0.9999999999999993\n",
      "0.21250000000000005\n",
      "round 2\n",
      "sum 1.0000000000000007\n",
      "0.31932773109243706\n",
      "round 3\n",
      "sum 1.0000000000000009\n",
      "0.3665619810843981\n",
      "round 4\n",
      "sum 1.0000000000000007\n",
      "0.3073301040034191\n",
      "round 5\n",
      "sum 1.0000000000000009\n",
      "0.3609222826701768\n",
      "3.373041868209839 secs\n",
      "[{11: {1: 1, 0: {13: {0: -1, 1: 1}}}}, {4: {1: 1, 0: {22: {0: -1, 1: 1}}}}, {3: {0: 1, 1: {20: {0: -1, 1: 1}}}}, {8: {1: 1, 0: {16: {0: -1, 1: 1}}}}, {3: {0: 1, 1: {20: {0: -1, 1: 1}}}}]\n"
     ]
    }
   ],
   "source": [
    "rounds = 5\n",
    "print('starting time')\n",
    "t1 = time.time()\n",
    "Thypo = Hypothesis()   #Thypo mean Total hypothesis space\n",
    "print('end')\n",
    "t2 = time.time()\n",
    "print(t2-t1, 'secs')\n",
    "#print(hypo)\n",
    "print('Generated Hypothesis spaces')\n",
    "\n",
    "epsilon, alpha, hypo, predictions = AdaBoost(rounds, Thypo, Train_data) #method for getting Hypothesis space and Alpha values\n",
    "t2 = time.time()\n",
    "print(t2-t1, 'secs')\n",
    "\n",
    "print(hypo)"
   ]
  },
  {
   "cell_type": "code",
   "execution_count": 18,
   "metadata": {},
   "outputs": [
    {
     "name": "stdout",
     "output_type": "stream",
     "text": [
      "Accuracy on the test data set is 76.47058823529412\n"
     ]
    }
   ],
   "source": [
    "length = len(Test_data)\n",
    "\n",
    "accuracy = 0\n",
    "for i in range(length):\n",
    "    p = 0\n",
    "    row = Test_data[i, :]\n",
    "    y = row[0]\n",
    "    for r in range(rounds):\n",
    "        k = output(hypo[r], row)\n",
    "        p = p + alpha[r] * k\n",
    "    if p >= 0:\n",
    "        if y == 1:\n",
    "            accuracy += 1\n",
    "    else:\n",
    "        if y == -1:\n",
    "            accuracy += 1\n",
    "\n",
    "accuracy = accuracy/length * 100\n",
    "print(\"Accuracy on the test data set is\", accuracy)"
   ]
  },
  {
   "cell_type": "code",
   "execution_count": 19,
   "metadata": {},
   "outputs": [
    {
     "name": "stdout",
     "output_type": "stream",
     "text": [
      "The value of epsilon and alpha for round, 1 is 0.6549606911676581 0.21250000000000005\n",
      "The value of epsilon and alpha for round, 2 is 0.37843149747302635 0.31932773109243706\n",
      "The value of epsilon and alpha for round, 3 is 0.2734972663157064 0.3665619810843981\n",
      "The value of epsilon and alpha for round, 4 is 0.4063155589491071 0.3073301040034191\n",
      "The value of epsilon and alpha for round, 5 is 0.2856817093262064 0.3609222826701768\n",
      "76.26973509788513 secs\n"
     ]
    }
   ],
   "source": [
    "for r in range(rounds):\n",
    "    print('The value of epsilon and alpha for round,',r+1,'is',alpha[r],epsilon[r])\n",
    "    \n",
    "t2 = time.time()\n",
    "print(t2-t1, 'secs')"
   ]
  },
  {
   "cell_type": "code",
   "execution_count": 17,
   "metadata": {},
   "outputs": [
    {
     "data": {
      "text/plain": [
       "[{11: {1: 1, 0: {13: {0: -1, 1: 1}}}},\n",
       " {4: {1: 1, 0: {22: {0: -1, 1: 1}}}},\n",
       " {3: {0: 1, 1: {20: {0: -1, 1: 1}}}},\n",
       " {8: {1: 1, 0: {16: {0: -1, 1: 1}}}},\n",
       " {3: {0: 1, 1: {20: {0: -1, 1: 1}}}}]"
      ]
     },
     "execution_count": 17,
     "metadata": {},
     "output_type": "execute_result"
    }
   ],
   "source": [
    "hypo"
   ]
  },
  {
   "cell_type": "code",
   "execution_count": null,
   "metadata": {},
   "outputs": [],
   "source": []
  },
  {
   "cell_type": "code",
   "execution_count": null,
   "metadata": {},
   "outputs": [],
   "source": []
  }
 ],
 "metadata": {
  "kernelspec": {
   "display_name": "Python 3",
   "language": "python",
   "name": "python3"
  },
  "language_info": {
   "codemirror_mode": {
    "name": "ipython",
    "version": 3
   },
   "file_extension": ".py",
   "mimetype": "text/x-python",
   "name": "python",
   "nbconvert_exporter": "python",
   "pygments_lexer": "ipython3",
   "version": "3.7.3"
  }
 },
 "nbformat": 4,
 "nbformat_minor": 2
}
