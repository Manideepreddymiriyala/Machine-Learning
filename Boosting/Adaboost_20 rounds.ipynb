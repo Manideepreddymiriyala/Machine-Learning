{
 "cells": [
  {
   "cell_type": "code",
   "execution_count": 1,
   "metadata": {},
   "outputs": [],
   "source": [
    "import pandas as pd\n",
    "import numpy as np\n",
    "import math\n",
    "import time"
   ]
  },
  {
   "cell_type": "code",
   "execution_count": 2,
   "metadata": {},
   "outputs": [],
   "source": [
    "Train_data = pd.read_csv(r'C:\\Users\\miriy\\Downloads\\heart_train.data',header = None)\n",
    "Test_data = pd.read_csv(r'C:\\Users\\miriy\\Downloads\\heart_test.data',header = None)"
   ]
  },
  {
   "cell_type": "code",
   "execution_count": 3,
   "metadata": {},
   "outputs": [],
   "source": [
    "Train_data.loc[Train_data[0] == 0, 0] = -1\n",
    "Test_data.loc[Test_data[0] == 0, 0] = -1"
   ]
  },
  {
   "cell_type": "code",
   "execution_count": 4,
   "metadata": {},
   "outputs": [],
   "source": [
    "attrs = len(Train_data.columns)  #No of Attributes\n",
    "\n",
    "rows = len(Train_data)"
   ]
  },
  {
   "cell_type": "code",
   "execution_count": 5,
   "metadata": {},
   "outputs": [],
   "source": [
    "Train_data = np.array(Train_data.iloc[:,:])\n",
    "Test_data = np.array(Test_data.iloc[:,:])"
   ]
  },
  {
   "cell_type": "code",
   "execution_count": 6,
   "metadata": {},
   "outputs": [],
   "source": [
    "def output(tree, lst):\n",
    "    while(True):\n",
    "        for key, value in tree.items():\n",
    "            #print('key', key)\n",
    "            #print('value', value)\n",
    "            if value == 1 or value == -1:\n",
    "                return value\n",
    "            else:\n",
    "                k = lst[key]\n",
    "                tree = tree[key][k]\n",
    "            if tree == 1 or tree == -1:\n",
    "                return tree"
   ]
  },
  {
   "cell_type": "code",
   "execution_count": 7,
   "metadata": {},
   "outputs": [],
   "source": [
    "def AdaBoost(rounds, model, data):\n",
    "    weightedError = 1\n",
    "    weight = [1/rows]*rows #Initial weight matrix\n",
    "    alpha = []\n",
    "    HSpace = [] #Total hypothesis space\n",
    "    predictions = []\n",
    "    \n",
    "    for r in range(rounds):\n",
    "        weightedError = 1\n",
    "        for mod in model:\n",
    "            w = 0\n",
    "            lst = []\n",
    "            for i in range(rows):\n",
    "                row = data[i, :]\n",
    "                k = output(mod, row)\n",
    "                lst.append(k)\n",
    "                if row[0] != k:\n",
    "                    w = w + weight[i]\n",
    "            if w < weightedError:\n",
    "                weightedError = w\n",
    "                bTree = mod #bTree indicates it is a best tree\n",
    "                bestP = lst\n",
    "        HSpace.append(bTree)\n",
    "        t = 1/2 * math.log((1-weightedError)/weightedError)\n",
    "        alpha.append(t)\n",
    "        #Weight Updation\n",
    "        sum1 = 0\n",
    "        predictions.append(bestP)\n",
    "        for i in range(rows):\n",
    "            prediction = bestP[i]\n",
    "            actual = data[i, 0]\n",
    "            #print(prediction, actual)\n",
    "            weight[i] = (weight[i] * (np.exp(-1 * prediction * actual * t)))/(2*np.sqrt(weightedError * (1-weightedError)))\n",
    "            sum1 += weight[i]\n",
    "        #print(\"sum\", sum1)\n",
    "        #print(weight)\n",
    "        #print(alpha)\n",
    "        print('weightedError on round',r+1,'is',weightedError)\n",
    "                                        \n",
    "    return alpha, HSpace, predictions"
   ]
  },
  {
   "cell_type": "code",
   "execution_count": 8,
   "metadata": {},
   "outputs": [],
   "source": [
    "def Hypothesis():\n",
    "    hypo = []\n",
    "    lst = [1, -1]\n",
    "    for i in range(1, attrs):#attribute iteration\n",
    "#         for j in range(1, attrs):\n",
    "#             for k in range(1, attrs):#5 different cases for 3 attribute splits\n",
    "#         for a in lst:\n",
    "        for a in lst:\n",
    "            for b in lst:\n",
    "                tree = {}                #case 1 LL\n",
    "                tree[i] = {}\n",
    "                tree[i][1] = a\n",
    "                tree[i][0] = b\n",
    "                hypo.append(tree)\n",
    "    return hypo"
   ]
  },
  {
   "cell_type": "code",
   "execution_count": 9,
   "metadata": {},
   "outputs": [
    {
     "name": "stdout",
     "output_type": "stream",
     "text": [
      "weightedError on round 1 is 0.2750000000000001\n",
      "weightedError on round 2 is 0.3855799373040752\n",
      "weightedError on round 3 is 0.3505008710801393\n",
      "weightedError on round 4 is 0.3686250448831019\n",
      "weightedError on round 5 is 0.4368023570783704\n",
      "weightedError on round 6 is 0.40424046480967374\n",
      "weightedError on round 7 is 0.4175274815585392\n",
      "weightedError on round 8 is 0.3989884075139821\n",
      "weightedError on round 9 is 0.44406618886911753\n",
      "weightedError on round 10 is 0.416220977791851\n",
      "weightedError on round 11 is 0.43673497794151184\n",
      "weightedError on round 12 is 0.4236695169301638\n",
      "weightedError on round 13 is 0.45112133083567724\n",
      "weightedError on round 14 is 0.4216669505566396\n",
      "weightedError on round 15 is 0.43311077325624053\n",
      "weightedError on round 16 is 0.4351883641040329\n",
      "weightedError on round 17 is 0.44945041391438023\n",
      "weightedError on round 18 is 0.437224788656357\n",
      "weightedError on round 19 is 0.4464809877890939\n",
      "weightedError on round 20 is 0.4448173303754368\n"
     ]
    }
   ],
   "source": [
    "rounds = 20\n",
    "Thypo = Hypothesis()   #Thypo mean Total hypothesis space\n",
    "alpha, hypo, predictions = AdaBoost(rounds, Thypo, Train_data) #method for getting Hypothesis space and Alpha values"
   ]
  },
  {
   "cell_type": "code",
   "execution_count": 10,
   "metadata": {},
   "outputs": [
    {
     "name": "stdout",
     "output_type": "stream",
     "text": [
      "Accuracy on the test data set after 20 rounds is 66.84491978609626\n",
      "The values of alpha are\n",
      "[0.48470027859405157, 0.23296515192905, 0.3084191516166043, 0.269059960403377, 0.12707489951194617, 0.1939136051934971, 0.16646581973436514, 0.20484093019665991, 0.11233780854211395, 0.16915310437537498, 0.12721184797605228, 0.15386377069176382, 0.09807054208811221, 0.15796706354327916, 0.13458519734012808, 0.130356664737319, 0.10144574639261557, 0.12621641283923687, 0.10744964087976837, 0.11081674484994171]\n"
     ]
    }
   ],
   "source": [
    "length = len(Test_data)\n",
    "\n",
    "accuracy = 0\n",
    "for i in range(length):\n",
    "    p = 0\n",
    "    row = Test_data[i, :]\n",
    "    for r in range(rounds):\n",
    "        k = output(hypo[r], row)\n",
    "        p = p + alpha[r] * k\n",
    "    if p > 0:\n",
    "        if Test_data[i, 0] == 1:\n",
    "            accuracy += 1\n",
    "    else:\n",
    "        if Test_data[i, 0] == -1:\n",
    "            accuracy += 1\n",
    "\n",
    "\n",
    "accuracy = accuracy/length * 100\n",
    "print('Accuracy on the test data set after' ,rounds,'rounds is', accuracy)\n",
    "        \n",
    "print('The values of alpha are')     \n",
    "print(alpha)"
   ]
  },
  {
   "cell_type": "code",
   "execution_count": null,
   "metadata": {},
   "outputs": [],
   "source": []
  },
  {
   "cell_type": "code",
   "execution_count": null,
   "metadata": {},
   "outputs": [],
   "source": []
  }
 ],
 "metadata": {
  "kernelspec": {
   "display_name": "Python 3",
   "language": "python",
   "name": "python3"
  },
  "language_info": {
   "codemirror_mode": {
    "name": "ipython",
    "version": 3
   },
   "file_extension": ".py",
   "mimetype": "text/x-python",
   "name": "python",
   "nbconvert_exporter": "python",
   "pygments_lexer": "ipython3",
   "version": "3.7.6"
  }
 },
 "nbformat": 4,
 "nbformat_minor": 2
}
