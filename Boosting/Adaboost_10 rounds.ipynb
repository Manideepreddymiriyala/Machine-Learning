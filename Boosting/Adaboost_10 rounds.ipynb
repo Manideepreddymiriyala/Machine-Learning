{
 "cells": [
  {
   "cell_type": "code",
   "execution_count": 12,
   "metadata": {},
   "outputs": [],
   "source": [
    "import pandas as pd\n",
    "import numpy as np\n",
    "import math\n",
    "import time\n",
    "import matplotlib.pyplot as plt"
   ]
  },
  {
   "cell_type": "code",
   "execution_count": 2,
   "metadata": {},
   "outputs": [],
   "source": [
    "Train_data = pd.read_csv(r'C:\\Users\\miriy\\Downloads\\heart_train.data',header = None)\n",
    "Test_data = pd.read_csv(r'C:\\Users\\miriy\\Downloads\\heart_test.data',header = None)"
   ]
  },
  {
   "cell_type": "code",
   "execution_count": 3,
   "metadata": {},
   "outputs": [],
   "source": [
    "Train_data.loc[Train_data[0] == 0, 0] = -1\n",
    "Test_data.loc[Test_data[0] == 0, 0] = -1"
   ]
  },
  {
   "cell_type": "code",
   "execution_count": 4,
   "metadata": {},
   "outputs": [],
   "source": [
    "attrs = len(Train_data.columns)  #No of Attributes\n",
    "\n",
    "rows = len(Train_data)"
   ]
  },
  {
   "cell_type": "code",
   "execution_count": 5,
   "metadata": {},
   "outputs": [],
   "source": [
    "Train_data = np.array(Train_data.iloc[:,:])\n",
    "Test_data = np.array(Test_data.iloc[:,:])"
   ]
  },
  {
   "cell_type": "code",
   "execution_count": 6,
   "metadata": {},
   "outputs": [],
   "source": [
    "def output(tree, lst):\n",
    "    while(True):\n",
    "        for key, value in tree.items():\n",
    "            #print('key', key)\n",
    "            #print('value', value)\n",
    "            if value == 1 or value == -1:\n",
    "                return value\n",
    "            else:\n",
    "                k = lst[key]\n",
    "                tree = tree[key][k]\n",
    "            if tree == 1 or tree == -1:\n",
    "                return tree"
   ]
  },
  {
   "cell_type": "code",
   "execution_count": null,
   "metadata": {},
   "outputs": [],
   "source": [
    "def accur(data, rounds, alpha, hypo):#Accuracy Calculation for a given data, Number of Rounds, Alpha and \n",
    "    accuracy = 0                     #Hypothesis space\n",
    "    length = len(data)\n",
    "    for i in range(length):\n",
    "        p = 0\n",
    "        row = data[i, :]\n",
    "        y = row[0]\n",
    "        for r in range(rounds):\n",
    "            k = output(hypo[r], row)\n",
    "            p = p + alpha[r] * k\n",
    "        if p >= 0:\n",
    "            if y == 1:\n",
    "                accuracy += 1\n",
    "        else:\n",
    "            if y == -1:\n",
    "                accuracy += 1\n",
    "    accuracy = accuracy/length * 100\n",
    "    return accuracy"
   ]
  },
  {
   "cell_type": "code",
   "execution_count": 7,
   "metadata": {},
   "outputs": [],
   "source": [
    "def AdaBoost(rounds, model, data):\n",
    "    test = Test_data\n",
    "    weightedError = 1\n",
    "    weight = [1/rows]*rows #Initial weight matrix\n",
    "    alpha = []\n",
    "    HSpace = [] #Total hypothesis space\n",
    "    predictions = []\n",
    "    Train_accuracies = []\n",
    "    Test_accuracies = []\n",
    "    eps = []    #Weighted errors\n",
    "    for r in range(rounds):\n",
    "        t1 = time.time()\n",
    "        print('round',r+1)\n",
    "        weightedError = 1\n",
    "        for mod in model:\n",
    "            w = 0\n",
    "            lst = []\n",
    "            for i in range(rows):\n",
    "                row = data[i, :]\n",
    "                k = output(mod, row)\n",
    "                lst.append(k)\n",
    "                if row[0] != k:\n",
    "                    w = w + weight[i]\n",
    "                if w > weightedError or w > 0.51:#Optimization\n",
    "                    break\n",
    "            if w < weightedError:\n",
    "                weightedError = w\n",
    "                bTree = mod #bTree indicates it is a best tree\n",
    "                bestP = lst\n",
    "        HSpace.append(bTree)\n",
    "        eps.append(weightedError)\n",
    "        t = 1/2 * math.log((1-weightedError)/weightedError)\n",
    "        alpha.append(t)\n",
    "        #Train and Test Accuracy Calculation\n",
    "        acc1 = accur(data, r+1, alpha, HSpace)\n",
    "        acc2 = accur(test, r+1, alpha, HSpace)\n",
    "        Train_accuracies.append(acc1)\n",
    "        Test_accuracies.append(acc2)\n",
    "        #Weight Updation\n",
    "        sum1 = 0\n",
    "        predictions.append(bestP)\n",
    "        for i in range(rows):\n",
    "            prediction = bestP[i]\n",
    "            actual = data[i, 0]\n",
    "            #print(prediction, actual)\n",
    "            weight[i] = (weight[i] * (np.exp(-1 * prediction * actual * t)))/(2*np.sqrt(weightedError * (1-weightedError)))\n",
    "            sum1 += weight[i]\n",
    "        #print(weight)\n",
    "        #print(alpha)\n",
    "        print(weightedError) \n",
    "        t2 = time.time()\n",
    "        print('round', r+1, 'end')\n",
    "        print(t2-t1, 'secs')                      \n",
    "    return eps, alpha, HSpace, predictions, Train_accuracies, Test_accuracies"
   ]
  },
  {
   "cell_type": "code",
   "execution_count": 8,
   "metadata": {},
   "outputs": [],
   "source": [
    "def Hypothesis():\n",
    "    hypo = []\n",
    "    lst = [1, -1]\n",
    "    for i in range(1, attrs):#attribute iteration\n",
    "        for j in range(1, attrs):\n",
    "#             for k in range(1, attrs):#5 different cases for 3 attribute splits\n",
    "#         for a in lst:\n",
    "            for a in lst:\n",
    "                for b in lst:\n",
    "                    for c in lst:\n",
    "                        tree = {}                #case 1 LL\n",
    "                        tree[i] = {}\n",
    "                        tree[i][1] = a\n",
    "                        tree1 = {}\n",
    "                        tree1[j] = {}\n",
    "                        tree1[j][0] = b\n",
    "                        tree1[j][1] = c\n",
    "                        tree[i][0] = tree1\n",
    "                        hypo.append(tree)\n",
    "                        \n",
    "                        tree = {}                #case 2 LR\n",
    "                        tree[i] = {}\n",
    "                        tree[i][0] = a\n",
    "                        tree1 = {}\n",
    "                        tree1[j] = {}\n",
    "                        tree1[j][0] = b\n",
    "                        tree1[j][1] = c\n",
    "                        tree[i][1] = tree1\n",
    "                        hypo.append(tree)\n",
    "                         \n",
    "    return hypo"
   ]
  },
  {
   "cell_type": "code",
   "execution_count": 9,
   "metadata": {},
   "outputs": [],
   "source": []
  },
  {
   "cell_type": "code",
   "execution_count": 10,
   "metadata": {},
   "outputs": [
    {
     "name": "stdout",
     "output_type": "stream",
     "text": [
      "starting time\n",
      "end\n",
      "0.009977102279663086 secs\n",
      "Generated Hypothesis spaces\n",
      "round 1\n",
      "0.21250000000000005\n",
      "round 1 end\n",
      "0.6426475048065186 secs\n",
      "round 2\n",
      "0.31932773109243706\n",
      "round 2 end\n",
      "0.8645009994506836 secs\n",
      "round 3\n",
      "0.3665619810843981\n",
      "round 3 end\n",
      "0.9394731521606445 secs\n",
      "round 4\n",
      "0.3073301040034191\n",
      "round 4 end\n",
      "0.8754911422729492 secs\n",
      "round 5\n",
      "0.3609222826701768\n",
      "round 5 end\n",
      "1.1923120021820068 secs\n",
      "round 6\n",
      "0.3647385614997371\n",
      "round 6 end\n",
      "0.9594626426696777 secs\n",
      "round 7\n",
      "0.3955310387872974\n",
      "round 7 end\n",
      "0.9854304790496826 secs\n",
      "round 8\n",
      "0.3571118404088816\n",
      "round 8 end\n",
      "1.0004055500030518 secs\n",
      "round 9\n",
      "0.39379446053587547\n",
      "round 9 end\n",
      "1.159330129623413 secs\n",
      "round 10\n",
      "0.41467052753195976\n",
      "round 10 end\n",
      "1.1523337364196777 secs\n",
      "9.788329124450684 secs\n",
      "Hypothesis Spaces are [{11: {1: 1, 0: {13: {0: -1, 1: 1}}}}, {4: {1: 1, 0: {22: {0: -1, 1: 1}}}}, {3: {0: 1, 1: {20: {0: -1, 1: 1}}}}, {8: {1: 1, 0: {16: {0: -1, 1: 1}}}}, {3: {0: 1, 1: {20: {0: -1, 1: 1}}}}, {7: {1: 1, 0: {10: {0: -1, 1: 1}}}}, {5: {0: 1, 1: {13: {0: -1, 1: 1}}}}, {16: {1: 1, 0: {19: {0: -1, 1: 1}}}}, {5: {0: 1, 1: {13: {0: -1, 1: 1}}}}, {19: {1: 1, 0: {20: {0: -1, 1: 1}}}}]\n",
      "Alpha values are\n",
      "[0.6549606911676581, 0.37843149747302635, 0.2734972663157064, 0.4063155589491071, 0.2856817093262064, 0.2774279006301844, 0.21206052926298508, 0.2939608813087992, 0.21569500159199742, 0.17234529706890792]\n",
      "Epsilon values are\n",
      "[0.21250000000000005, 0.31932773109243706, 0.3665619810843981, 0.3073301040034191, 0.3609222826701768, 0.3647385614997371, 0.3955310387872974, 0.3571118404088816, 0.39379446053587547, 0.41467052753195976]\n",
      "Accuracies on the training data set are [78.75, 78.75, 78.75, 81.25, 81.25, 82.5, 86.25, 86.25, 86.25, 86.25]\n",
      "Accuracies on the test data set are [71.12299465240642, 71.12299465240642, 71.12299465240642, 76.47058823529412, 76.47058823529412, 78.6096256684492, 78.6096256684492, 78.6096256684492, 77.54010695187165, 77.00534759358288]\n",
      "9.798321962356567 secs\n"
     ]
    }
   ],
   "source": [
    "data = Train_data\n",
    "rounds = 10\n",
    "print('starting time')\n",
    "t1 = time.time()\n",
    "Thypo = Hypothesis()   #Thypo mean Total hypothesis space\n",
    "print('end')\n",
    "t2 = time.time()\n",
    "print(t2-t1, 'secs')\n",
    "print('Generated Hypothesis spaces')\n",
    "\n",
    "epsilon, alpha, hypo, predictions, Train_accuracies, Test_accuracies = AdaBoost(rounds, Thypo, data) #method for getting Hypothesis space and Alpha values\n",
    "t2 = time.time()\n",
    "print(t2-t1, 'secs')\n",
    "\n",
    "print('Hypothesis Spaces are', hypo)\n",
    "\n",
    "print('Alpha values are')\n",
    "print(alpha)\n",
    "\n",
    "\n",
    "print('Epsilon values are')\n",
    "print(epsilon)\n",
    "\n",
    "\n",
    "print(\"Accuracies on the training data set are\", Train_accuracies)\n",
    "\n",
    "\n",
    "print(\"Accuracies on the test data set are\", Test_accuracies)\n",
    "\n",
    "t2 = time.time()\n",
    "print(t2-t1, 'secs')"
   ]
  },
  {
   "cell_type": "code",
   "execution_count": 13,
   "metadata": {},
   "outputs": [
    {
     "data": {
      "image/png": "[encoded data removed]",
      "text/plain": [
       "<Figure size 432x288 with 1 Axes>"
      ]
     },
     "metadata": {
      "needs_background": "light"
     },
     "output_type": "display_data"
    }
   ],
   "source": [
    "#plot reference : https://www.geeksforgeeks.org/graph-plotting-in-python-set-1/\n",
    "x1 = []\n",
    "for i in range(rounds):\n",
    "    x1.append(i+1)\n",
    "\n",
    "# plotting the Training accuracies\n",
    "plt.plot(x1, Train_accuracies, label = \"Train Accuracies\") \n",
    "  \n",
    "# plotting the Testing accuracies\n",
    "plt.plot(x1, Test_accuracies, label = \"Test Accuracies\") \n",
    "  \n",
    "# naming the x axis \n",
    "plt.xlabel('Numbe of Rounds') \n",
    "# naming the y axis \n",
    "plt.ylabel('Accuracy') \n",
    "# giving a title to my graph \n",
    "plt.title('Boosting') \n",
    "  \n",
    "# show a legend on the plot \n",
    "plt.legend() \n",
    "  \n",
    "# function to show the plot \n",
    "plt.show() "
   ]
  },
  {
   "cell_type": "code",
   "execution_count": null,
   "metadata": {},
   "outputs": [],
   "source": []
  }
 ],
 "metadata": {
  "kernelspec": {
   "display_name": "Python 3",
   "language": "python",
   "name": "python3"
  },
  "language_info": {
   "codemirror_mode": {
    "name": "ipython",
    "version": 3
   },
   "file_extension": ".py",
   "mimetype": "text/x-python",
   "name": "python",
   "nbconvert_exporter": "python",
   "pygments_lexer": "ipython3",
   "version": "3.7.3"
  }
 },
 "nbformat": 4,
 "nbformat_minor": 2
}
